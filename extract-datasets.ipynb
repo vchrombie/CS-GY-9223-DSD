{
 "cells": [
  {
   "cell_type": "code",
   "execution_count": 1,
   "id": "621de15b",
   "metadata": {},
   "outputs": [],
   "source": [
    "import os\n",
    "import re\n",
    "import json\n",
    "import string\n",
    "\n",
    "import pandas as pd\n",
    "import numpy as np\n",
    "\n",
    "from pprint import pprint"
   ]
  },
  {
   "cell_type": "code",
   "execution_count": 2,
   "id": "db8e406d",
   "metadata": {},
   "outputs": [
    {
     "name": "stderr",
     "output_type": "stream",
     "text": [
      "[nltk_data] Downloading package punkt to /home/jovyan/nltk_data...\n",
      "[nltk_data]   Package punkt is already up-to-date!\n"
     ]
    },
    {
     "data": {
      "text/plain": [
       "True"
      ]
     },
     "execution_count": 2,
     "metadata": {},
     "output_type": "execute_result"
    }
   ],
   "source": [
    "import nltk\n",
    "nltk.download('punkt')"
   ]
  },
  {
   "cell_type": "code",
   "execution_count": 3,
   "id": "afe1622b",
   "metadata": {},
   "outputs": [
    {
     "name": "stderr",
     "output_type": "stream",
     "text": [
      "[nltk_data] Downloading package stopwords to /home/jovyan/nltk_data...\n",
      "[nltk_data]   Package stopwords is already up-to-date!\n"
     ]
    },
    {
     "data": {
      "text/plain": [
       "True"
      ]
     },
     "execution_count": 3,
     "metadata": {},
     "output_type": "execute_result"
    }
   ],
   "source": [
    "import nltk\n",
    "nltk.download('stopwords')"
   ]
  },
  {
   "cell_type": "code",
   "execution_count": 4,
   "id": "ba6ae167",
   "metadata": {},
   "outputs": [],
   "source": [
    "from nltk.corpus import stopwords\n",
    "\n",
    "stopwords_list = stopwords.words('english') + list(string.punctuation)\n",
    "stopwords_list += [\"''\", '\"\"', '...', '``']"
   ]
  },
  {
   "cell_type": "code",
   "execution_count": null,
   "id": "067195ee",
   "metadata": {},
   "outputs": [],
   "source": []
  },
  {
   "cell_type": "code",
   "execution_count": 5,
   "id": "bc8107e1",
   "metadata": {},
   "outputs": [
    {
     "data": {
      "text/html": [
       "<div>\n",
       "<style scoped>\n",
       "    .dataframe tbody tr th:only-of-type {\n",
       "        vertical-align: middle;\n",
       "    }\n",
       "\n",
       "    .dataframe tbody tr th {\n",
       "        vertical-align: top;\n",
       "    }\n",
       "\n",
       "    .dataframe thead th {\n",
       "        text-align: right;\n",
       "    }\n",
       "</style>\n",
       "<table border=\"1\" class=\"dataframe\">\n",
       "  <thead>\n",
       "    <tr style=\"text-align: right;\">\n",
       "      <th></th>\n",
       "      <th>Id</th>\n",
       "      <th>pub_title</th>\n",
       "      <th>dataset_title</th>\n",
       "      <th>dataset_label</th>\n",
       "      <th>cleaned_label</th>\n",
       "    </tr>\n",
       "  </thead>\n",
       "  <tbody>\n",
       "    <tr>\n",
       "      <th>0</th>\n",
       "      <td>d0fa7568-7d8e-4db9-870f-f9c6f668c17b</td>\n",
       "      <td>The Impact of Dual Enrollment on College Degre...</td>\n",
       "      <td>National Education Longitudinal Study</td>\n",
       "      <td>National Education Longitudinal Study</td>\n",
       "      <td>national education longitudinal study</td>\n",
       "    </tr>\n",
       "    <tr>\n",
       "      <th>1</th>\n",
       "      <td>2f26f645-3dec-485d-b68d-f013c9e05e60</td>\n",
       "      <td>Educational Attainment of High School Dropouts...</td>\n",
       "      <td>National Education Longitudinal Study</td>\n",
       "      <td>National Education Longitudinal Study</td>\n",
       "      <td>national education longitudinal study</td>\n",
       "    </tr>\n",
       "    <tr>\n",
       "      <th>2</th>\n",
       "      <td>c5d5cd2c-59de-4f29-bbb1-6a88c7b52f29</td>\n",
       "      <td>Differences in Outcomes for Female and Male St...</td>\n",
       "      <td>National Education Longitudinal Study</td>\n",
       "      <td>National Education Longitudinal Study</td>\n",
       "      <td>national education longitudinal study</td>\n",
       "    </tr>\n",
       "    <tr>\n",
       "      <th>3</th>\n",
       "      <td>5c9a3bc9-41ba-4574-ad71-e25c1442c8af</td>\n",
       "      <td>Stepping Stone and Option Value in a Model of ...</td>\n",
       "      <td>National Education Longitudinal Study</td>\n",
       "      <td>National Education Longitudinal Study</td>\n",
       "      <td>national education longitudinal study</td>\n",
       "    </tr>\n",
       "    <tr>\n",
       "      <th>4</th>\n",
       "      <td>c754dec7-c5a3-4337-9892-c02158475064</td>\n",
       "      <td>Parental Effort, School Resources, and Student...</td>\n",
       "      <td>National Education Longitudinal Study</td>\n",
       "      <td>National Education Longitudinal Study</td>\n",
       "      <td>national education longitudinal study</td>\n",
       "    </tr>\n",
       "  </tbody>\n",
       "</table>\n",
       "</div>"
      ],
      "text/plain": [
       "                                     Id  \\\n",
       "0  d0fa7568-7d8e-4db9-870f-f9c6f668c17b   \n",
       "1  2f26f645-3dec-485d-b68d-f013c9e05e60   \n",
       "2  c5d5cd2c-59de-4f29-bbb1-6a88c7b52f29   \n",
       "3  5c9a3bc9-41ba-4574-ad71-e25c1442c8af   \n",
       "4  c754dec7-c5a3-4337-9892-c02158475064   \n",
       "\n",
       "                                           pub_title  \\\n",
       "0  The Impact of Dual Enrollment on College Degre...   \n",
       "1  Educational Attainment of High School Dropouts...   \n",
       "2  Differences in Outcomes for Female and Male St...   \n",
       "3  Stepping Stone and Option Value in a Model of ...   \n",
       "4  Parental Effort, School Resources, and Student...   \n",
       "\n",
       "                           dataset_title  \\\n",
       "0  National Education Longitudinal Study   \n",
       "1  National Education Longitudinal Study   \n",
       "2  National Education Longitudinal Study   \n",
       "3  National Education Longitudinal Study   \n",
       "4  National Education Longitudinal Study   \n",
       "\n",
       "                           dataset_label  \\\n",
       "0  National Education Longitudinal Study   \n",
       "1  National Education Longitudinal Study   \n",
       "2  National Education Longitudinal Study   \n",
       "3  National Education Longitudinal Study   \n",
       "4  National Education Longitudinal Study   \n",
       "\n",
       "                           cleaned_label  \n",
       "0  national education longitudinal study  \n",
       "1  national education longitudinal study  \n",
       "2  national education longitudinal study  \n",
       "3  national education longitudinal study  \n",
       "4  national education longitudinal study  "
      ]
     },
     "execution_count": 5,
     "metadata": {},
     "output_type": "execute_result"
    }
   ],
   "source": [
    "df = pd.read_csv('coleridgeinitiative/data.csv')\n",
    "df.head()"
   ]
  },
  {
   "cell_type": "code",
   "execution_count": 6,
   "id": "ac8f2d27",
   "metadata": {},
   "outputs": [
    {
     "data": {
      "text/plain": [
       "Id               19661\n",
       "pub_title        19661\n",
       "dataset_title    19661\n",
       "dataset_label    19661\n",
       "cleaned_label    19661\n",
       "dtype: int64"
      ]
     },
     "execution_count": 6,
     "metadata": {},
     "output_type": "execute_result"
    }
   ],
   "source": [
    "df.count()"
   ]
  },
  {
   "cell_type": "code",
   "execution_count": 7,
   "id": "147d6382",
   "metadata": {},
   "outputs": [
    {
     "data": {
      "text/plain": [
       "Id               14316\n",
       "pub_title        14271\n",
       "dataset_title       45\n",
       "dataset_label      130\n",
       "cleaned_label      130\n",
       "dtype: int64"
      ]
     },
     "execution_count": 7,
     "metadata": {},
     "output_type": "execute_result"
    }
   ],
   "source": [
    "df.nunique()"
   ]
  },
  {
   "cell_type": "code",
   "execution_count": 8,
   "id": "0c563314",
   "metadata": {
    "scrolled": true
   },
   "outputs": [
    {
     "name": "stdout",
     "output_type": "stream",
     "text": [
      "[{'section_title': 'Abstract',\n",
      "  'text': \"In this study, Finnish ninth graders' and their school guidance \"\n",
      "          \"counselors' views concerning ninth graders' perceptions of \"\n",
      "          'gender-appropriateness of occupations were examined. Special '\n",
      "          'interest was placed on evaluating if ninth graders bring out any '\n",
      "          'gender stereotypical perceptions regarding science, technology, '\n",
      "          'engineering or mathematics (STEM) occupations. The data were '\n",
      "          'gathered with the aid of an online survey (246 pupils) and '\n",
      "          'semi-structured interviews (7 school guidance counselors). Ninth '\n",
      "          'graders referred mostly to masculine physical dimension when '\n",
      "          'justifying certain occupations being more suitable for men than for '\n",
      "          'women. Respectively, they referred mostly to gender-typical '\n",
      "          'interest when justifying certain occupations to be more suitable '\n",
      "          'for women than for men. Boys presented more gender stereotypical '\n",
      "          'perceptions of occupations than girls did. Boys also considered '\n",
      "          'their own gender affecting their occupational preferences stronger '\n",
      "          \"than girls did. Guidance counselors reported ninth graders' \"\n",
      "          'perceptions of occupations being still very gender-stereotypic and '\n",
      "          'influencing on academic and occupational choices. To address '\n",
      "          'occupational gender segregation, it is necessary to develop novel '\n",
      "          'methods and materials recognizing gender stereotypes and '\n",
      "          'demonstrating up-to-date STEM career knowledge.'},\n",
      " {'section_title': 'INTRODUCTION',\n",
      "  'text': 'In Finnish education and labor market, gender segregation is a '\n",
      "          'persistent phenomenon; changes in segregation levels in recent 30 '\n",
      "          'years are minimal. Our young generations still aspire similarly '\n",
      "          'gender stereotypical educational pathways and occupations as their '\n",
      "          'parents and grandparents aspired. Gendered educational choices '\n",
      "          'start to occur already on middle school level, where male and '\n",
      "          'female pupils make different subject selections. In Finnish '\n",
      "          'education system, adolescents typically orient to either general or '\n",
      "          'vocational upper secondary education after compulsory basic '\n",
      "          'education. On general upper secondary education, course selection '\n",
      "          'continues to be gendered as female students opt less likely to '\n",
      "          'advanced mathematics and physics courses (Pursiainen, Muukkonen-Van '\n",
      "          'der Meer, Rusanen, & Harmoinen, 2018) . In secondary vocational '\n",
      "          'education, male and female students choose different educational '\n",
      "          'tracks; the tracks of science, technology and transport are '\n",
      "          'strongly male dominant and the tracks of education or health and '\n",
      "          'welfare are, in turn, strongly female dominant (Statistics Finland, '\n",
      "          '2016) . In higher education, as in universities and universities of '\n",
      "          'applied sciences, female students orient towards the fields of life '\n",
      "          'sciences more likely than the fields of engineering, physical '\n",
      "          'sciences or applied mathematics (Statistics Finland, 2016) .\\n'\n",
      "          'When it comes to Finnish labor markets, the industries of human '\n",
      "          'health and social work activities, accommodation and food service '\n",
      "          'activities, and education are three of the industries with the '\n",
      "          'strongest femaledomination. The most male-dominated industries are, '\n",
      "          'in turn, construction, transport and storage and agriculture, '\n",
      "          'forestry, fishing, and mining. Science and engineering '\n",
      "          'professionals are two of the principal occupations of Finnish '\n",
      "          'employed men whereas the principal occupations of Finnish women are '\n",
      "          \"personal care workers, teaching Ikonen et al. / Ninth graders' \"\n",
      "          'gender-appropriateness 2 / 13 professionals, sales workers and '\n",
      "          'health care professionals. (Statistics Finland, 2016) In many other '\n",
      "          'western egalitarian welfare states labor markets have similar '\n",
      "          'characteristics (National Science Foundation, 2019; Burchell, '\n",
      "          'Hardy, Rubery, & Smith, 2014) .\\n'\n",
      "          'It has been stated that science, technology, engineering, and '\n",
      "          'mathematics (STEM) occupations have the greatest potential of job '\n",
      "          'growth in the early 21th century. The umbrella under which STEM '\n",
      "          'jobs fall keeps expanding. Among the more traditional STEM jobs '\n",
      "          'there is now need of professionals of such disciplines that one '\n",
      "          'could not imagine a few decades ago. Domains such as artificial '\n",
      "          'intelligence, machine learning, and cyber security are in need for '\n",
      "          'mass of labor with STEM skills. STEM occupations are also likely to '\n",
      "          'replace many of the traditional jobs due to the rapid technological '\n",
      "          'advancement which makes us ever more reliant on digital systems and '\n",
      "          'tech skilled workforce able to operate with them.\\n'\n",
      "          'Shortfalls of STEM skilled workers cause concern globally. Besides '\n",
      "          'newly created jobs, companies are growing, and large age groups are '\n",
      "          'starting to retire during the following few years (Caprile, Palmén, '\n",
      "          'Sanz, & Dente, 2015; Heimlich, 2010) . The supply of workforce does '\n",
      "          'not meet the demands of labor markets in many countries because not '\n",
      "          'enough young people are entering STEM fields and the current work '\n",
      "          'force is partly in need of reskilling and upskilling. In Finland, '\n",
      "          'economic model is based on high competence and the availability of '\n",
      "          'skilled and high-quality workforce is a key factor for sustaining '\n",
      "          'economic growth, correcting the demographic dependency ratio and '\n",
      "          'financing the welfare state. Technology industry, chemical industry '\n",
      "          'and forestry are the largest industries in Finland and their '\n",
      "          'products account approximately for 80 per cent of the Finnish '\n",
      "          'exports (Official Statistics of Finland, 2018) . Hence, sufficient '\n",
      "          'supply particularly of STEM skilled labor is essential. Besides not '\n",
      "          'enough young people are entering STEM fields, additional problem is '\n",
      "          'the persistent underrepresentation of women in these fields, not '\n",
      "          'only in Finland but also in the European Union and the United '\n",
      "          'States (Caprile et al., 2015; National Science Foundation, 2019) .'},\n",
      " {'section_title': 'LITERATURE REVIEW',\n",
      "  'text': 'International studies on student achievement, such as Trends in '\n",
      "          'International Mathematics and Science Study (TIMMS) and the '\n",
      "          'Programme for International Student Assessment (PISA) from past '\n",
      "          'several years have documented a narrowing gap in gender differences '\n",
      "          'in science and mathematics achievement (Else-Quest, Hyde, & Linn, '\n",
      "          '2010; Martin, Mullis, Foy, & Hooper, 2016; OECD, 2016) . Growing '\n",
      "          'body of research on career choice concludes that actual abilities '\n",
      "          \"are just one of factors influencing on individual's educational and \"\n",
      "          \"occupational preferences and that they do not justify girls' \"\n",
      "          'retention from STEM career pathways. Wang and Degol (2017) '\n",
      "          'summarize in their meta-analysis that female underrepresentation in '\n",
      "          'STEM fields is a complex interaction of six underlying factors: '\n",
      "          'absolute ability differences, relative ability strengths, career '\n",
      "          'preferences, lifestyle preferences, field-specific ability beliefs, '\n",
      "          \"and gender stereotypes and bias. Miller and Hayward's (2006) review \"\n",
      "          'of studies from 1970s onwards demonstrates that the extent to which '\n",
      "          'occupations are seen as gender-stereotyped is one of the most '\n",
      "          'influential factors affecting career choices and that individuals '\n",
      "          'mostly prefer occupations that they consider gender-appropriate. '\n",
      "          'Behind the perceptions of genderappropriateness of occupations, '\n",
      "          'there are beliefs, that men and women are suited into different '\n",
      "          'kinds of occupations because of their gender-typical personal '\n",
      "          \"characteristics (Cejka & Eagly, 1999) . According to Gottfredson's \"\n",
      "          '(1981) theory of the development of occupational aspirations, young '\n",
      "          'children have quite positive images of all occupations they are '\n",
      "          \"aware of, but with age, as the self-concept develops, one's \"\n",
      "          'perceptions of acceptable occupations become narrower. The '\n",
      "          'orientation to gender roles starts in the ages of 6-8, and already '\n",
      "          'in that age children have found to gender-type occupations. '\n",
      "          'Gottfredson argues that occupations that are inappropriate for '\n",
      "          \"one's gender, are the first ones to rule out from further \"\n",
      "          'consideration. The elimination of gender-wise inappropriate '\n",
      "          'occupational alternatives can be explained with gender role '\n",
      "          'theories, according to which individuals internalize cultural '\n",
      "          'gender role expectations in their gender ideology, and adapt to the '\n",
      "          'roles, behaviours, activities, and attributes that a given society '\n",
      "          'may construct or consider appropriate as doing so establishes their '\n",
      "          'identity (Akerlof & Kranton, 2000; Sinclair & Carlsson, 2013) . The '\n",
      "          'exploration of occupational alternatives in adolescence is largely '\n",
      "          'within the set of'},\n",
      " {'section_title': 'Contribution of this paper to the literature',\n",
      "  'text': \"• There is little research on Finnish ninth graders' perceptions of \"\n",
      "          'gender-appropriateness of occupations and the results of this study '\n",
      "          'contributes to filling in that research gap.\\n'\n",
      "          \"• This study was unique in that ninth graders' perceptions of \"\n",
      "          'gender-appropriateness of occupations were explored by examining '\n",
      "          'the perspectives of both ninth graders and their school guidance '\n",
      "          'counselors.\\n'\n",
      "          '• The results of the study contribute to the research and '\n",
      "          'development of what kind of career education related interventions '\n",
      "          'are in demand in the pursuit of de-segregation in STEM fields.'},\n",
      " {'section_title': 'EURASIA J Math Sci and Tech Ed',\n",
      "  'text': '3 / 13 occupations that were deemed compatible at earlier ages '\n",
      "          \"according to one's more visible social attributes (sex, social \"\n",
      "          \"class, and intelligence) and one's sense of what is available with \"\n",
      "          'reasonable effort (Gottfredson, 1981) .\\n'\n",
      "          'One model describing gender-typical personal characteristics linked '\n",
      "          'to men and women is a Description of Gender-Stereotypic Dimensions '\n",
      "          'derived by Cejka and Eagly (1999) ( Table 1 ). The gender '\n",
      "          'stereotypicality of each of the six dimension was established by '\n",
      "          \"comparing university psychology students' ratings of the likelihood \"\n",
      "          'that an average man or an average woman would possess some of the '\n",
      "          '54 attributes listed in the Table 1 .\\n'\n",
      "          'In their study, Cejka and Eagly (1999) investigated the extent to '\n",
      "          'what psychology students believed that success in occupations '\n",
      "          'dominated by one gender requires personal characteristics typical '\n",
      "          'for that gender. Psychology students rated stereotypic masculine '\n",
      "          'cognitive characteristics (such as analytical, mathematical and '\n",
      "          'good at abstraction) as the most important features for success in '\n",
      "          'male-dominated occupations and stereotypic female personality '\n",
      "          'characteristics (affectionate, nurturing and cooperative, for '\n",
      "          'example) as the most important ones for success in female dominated '\n",
      "          'occupations. Students also believed that highly paid occupations '\n",
      "          'require masculine personality characteristics and prestigious '\n",
      "          'occupations require both masculine personality and cognitive '\n",
      "          'characteristics. Cejka and Eagly argue, that beliefs like this can '\n",
      "          'discourage women orienting towards highly paid and prestigious '\n",
      "          'occupations if they do not think they possess these masculine '\n",
      "          'characteristics.\\n'\n",
      "          'When it comes to gender stereotypes related to STEM skills, in '\n",
      "          'particular, a belief that men are naturally more talented in '\n",
      "          'mathematics and science than women has been a long-standing '\n",
      "          'cultural stereotype in Western societies (Correll, 2001; Nosek et '\n",
      "          'al., 2009; Steele, 1997) . These kinds of gender stereotypes '\n",
      "          'related to intellectual abilities and competence have been '\n",
      "          'documented to emerge already in early childhood. Several studies '\n",
      "          'among elementary school pupils demonstrate that children associate '\n",
      "          'domain of mathematics with boys and domain of languages with girls '\n",
      "          '(e.g. Cvencek, Meltzoff, & Greenwald, 2011; Steffens, Jelenec, & '\n",
      "          'Noack, 2010) .\\n'\n",
      "          'Concerning gender stereotypes regarding STEM occupations, earlier '\n",
      "          'research has documented that children and adolescents often link '\n",
      "          'these occupations to men or stereotypical male characteristics. A '\n",
      "          \"common way of investigating young people's perceptions regarding \"\n",
      "          'scientists has been the Draw-a-scientist (DAST) -test developed by '\n",
      "          'David Wade Chambers in 1983. Several decades of research utilizing '\n",
      "          'this test document that young people tend to visualize a scientist '\n",
      "          'as a male person in a laboratory coat, eyeglasses and facial hair '\n",
      "          '(Barman, 1997; Chambers, 1983; Finson, 2002; Narayan, Park, Peker, '\n",
      "          '& Suh, 2013) . There have also been studies examining drawings of '\n",
      "          'engineers and in these studies, too, young people usually draw a '\n",
      "          'male engineer (Karatas, Micklos, & Bodner, 2011) .\\n'\n",
      "          'Gender stereotypes related to STEM skills and occupations seem to '\n",
      "          'partially result to girls feeling that careers in these fields are '\n",
      "          'not for them. Masculine images of STEM professionals are in '\n",
      "          \"conflict with girls' gender-identity especially in adolescence when \"\n",
      "          'the pressures of fulfilling feminine norms in social circles '\n",
      "          'becomes harder. In addition, stereotypes of male superiority in '\n",
      "          \"science and mathematics inhibit girls' self-efficacy in these \"\n",
      "          'subjects in school and lower their interest to orient towards '\n",
      "          'science and mathematics-intensive careers (Correll, 2001) .\\n'\n",
      "          \"The amount of Finnish research regarding adolescents' gender \"\n",
      "          'stereotypes of occupations is marginal. Picker and Berry (2000) '\n",
      "          \"investigated adolescents' images of mathematicians, and found out \"\n",
      "          'that when asked to draw a mathematician, majority of Finnish pupils '\n",
      "          'that participated in the study, drew a male mathematician. In 2010, '\n",
      "          \"Technology Industries of Finland studied Finnish girls' perceptions \"\n",
      "          'of the field of information and communication technology (ICT) in '\n",
      "          'general and the companies, products and services on ICT. In this '\n",
      "          'study, girls perceived ICT difficult and lacking creativity and '\n",
      "          'humanity. On the other hand, girls considered that ICT is suitable '\n",
      "          'for women but regardless they did not see themselves working in '\n",
      "          'this field. (Technology Industries of Finland, 2011) .\\n'\n",
      "          \"While gender stereotypes may have an influence on adolescents' \"\n",
      "          'perceptions of their ability to succeed in STEM occupations and the '\n",
      "          'gender-appropriateness of orienting towards them, further '\n",
      "          \"examination of adolescents' occupational gender stereotypes is \"\n",
      "          'vital in countries with highly segregated labor markets, such as '\n",
      "          'Finland. Therefore, this study concentrates on examining Finnish '\n",
      "          \"ninth graders' perceptions of gender-appropriateness of occupations \"\n",
      "          'with the aid of the Description of Gender-Stereotypic Dimensions '\n",
      "          'according to Cejka and Eagly (1999) (see Table 1 ).\\n'\n",
      "          'Ninth graders were chosen as a cohort because the ninth grade is '\n",
      "          'the point of time when Finnish adolescents are finishing their '\n",
      "          'compulsory education and are making further educational and '\n",
      "          'occupational choices. According to the study of Maltese and Tai '\n",
      "          '(2011) , the majority of college students who concentrate in STEM '\n",
      "          'make that choice during high school. Thus, finding out what kind of '\n",
      "          'gender-related perceptions on occupations ninth graders have and '\n",
      "          'how STEM occupations occur in these perception can contribute to '\n",
      "          'developing novel educational methods and materials enhancing pupils '\n",
      "          'knowledge on STEM occupations and tackling gender segregation in '\n",
      "          'STEM already in secondary level education.\\n'\n",
      "          \"In this study, school guidance counselors' views are examined \"\n",
      "          \"alongside with ninth graders' views, as guidance counselors have a \"\n",
      "          'central role in education and career related discussions in middle '\n",
      "          'school environment. In Finnish education system, guidance '\n",
      "          'counselors provide pupils information of working life and '\n",
      "          \"entrepreneurship, and discuss pupil's post-comprehensive school \"\n",
      "          'plans for education and career (CIMO, 2009 ). Thus, school guidance '\n",
      "          'counselors assumedly possess notable amount of experience-based '\n",
      "          \"knowledge on adolescents' perceptions of occupations.\\n\"\n",
      "          'For this study, the following research questions were formulated:\\n'\n",
      "          '(1) What kinds of perceptions regarding gender-appropriateness of '\n",
      "          'occupations do Finnish ninth graders have?\\n'\n",
      "          '(2) To what extent do ninth graders consider their own gender '\n",
      "          'influencing their career preferences?\\n'\n",
      "          \"(3) How do STEM occupations occur in ninth graders' views regarding \"\n",
      "          'gender-appropriateness of occupations?\\n'\n",
      "          'Guided by the research question (1), it is investigated to what '\n",
      "          'extent ninth graders think that there are occupations that are more '\n",
      "          'suitable to certain gender and to what kind of gender typical '\n",
      "          'characteristics, they refer to when justifying their views. In '\n",
      "          'addition, ninth graders views regarding the influence of their own '\n",
      "          'gender to their career preference, is examined guided by research '\n",
      "          'question (2). Special interest of this study was to examine how '\n",
      "          \"STEM occupations possibly occur in ninth graders' gender-related \"\n",
      "          'perceptions of occupations without questions that address '\n",
      "          'explicitly to that aspect. This approach may reduce the risk of '\n",
      "          'questions influencing on the responses. For this aim, the research '\n",
      "          'question (3) was formulated.\\n'\n",
      "          'Each of the research questions 1-3 are evaluated from the '\n",
      "          'perspectives of ninth graders and supplementary data for each '\n",
      "          'question is collected from their school guidance counselors.\\n'},\n",
      " {'section_title': 'METHODOLOGY', 'text': ''},\n",
      " {'section_title': 'Data Collection Methods',\n",
      "  'text': \"To examine ninth graders' perceptions of gender-appropriateness of \"\n",
      "          'occupations and the effect of their own gender on educational and '\n",
      "          'occupational choices, a survey instrument (Trochim, 2006) was '\n",
      "          'designed in a group of four researchers. The survey instrument '\n",
      "          'consisted of demographic questions, Likert-scale statements, and '\n",
      "          'comment boxes in which pupils were encouraged to justify their '\n",
      "          'responses to the statements. The aim was to gather information for '\n",
      "          'the following themes:\\n'\n",
      "          \"(a) Background information: the respondent's gender, home town, \"\n",
      "          'school and grade.\\n'\n",
      "          '(b) The extent to what respondent considers that some occupations '\n",
      "          'are more suitable for women or for men.\\n'\n",
      "          \"(c) Respondents' justifications for his/her perceptions regarding \"\n",
      "          'theme (b).\\n'\n",
      "          '(d) The extent to what respondent considers that his/her gender has '\n",
      "          'an effect on his/her career preference.\\n'\n",
      "          'There were 27 questions altogether in the final survey instrument. '\n",
      "          \"In this article, pupils' responses concerning three questions \"\n",
      "          'corresponding the themes (b)-(d) are reported. Another part of the '\n",
      "          'data collected with the same survey instrument from the same sample '\n",
      "          'concerns education-and career-related conversations between '\n",
      "          'different groups of socializers and ninth graders, and the extent '\n",
      "          'to which occupational gender stereotypes are present in these '\n",
      "          'conversations. This data is reported in a separate research article '\n",
      "          '(Ikonen, Leinonen, Asikainen, & Hirvonen, 2018) .'},\n",
      " {'section_title': '/ 13',\n",
      "  'text': 'The survey was piloted with 73 ninth grade pupils from one school '\n",
      "          'located in Southern Finland on their guidance counselling lessons. '\n",
      "          'Based on the feedback received from the pupils and their school '\n",
      "          'guidance counselor, one ambiguous question was reformulated.\\n'\n",
      "          'For the final data collection, 24 school guidance counselors in the '\n",
      "          'Eastern Finland area were contacted and asked to conduct the survey '\n",
      "          \"during their ninth graders' school guidance counselling lessons. \"\n",
      "          'Eight guidance counselors agreed to conduct the survey in their '\n",
      "          'lessons. The final survey was administered online, which made it '\n",
      "          'easier for the guidance counselors to distribute it to their '\n",
      "          'pupils. The pupils were offered a chance to refuse to participate '\n",
      "          'in the study.\\n'\n",
      "          \"In order to supplement the survey data, guidance counselors' views \"\n",
      "          'were explored via interviews. A semistructured interview protocol '\n",
      "          '(Galletta, 2013) was designed in a group of four researchers. '\n",
      "          'Design process was based on results of earlier research findings '\n",
      "          'and the research gap that was discovered during the literature '\n",
      "          'review to form a framework for the interview questions. The '\n",
      "          'interview consisted of 20 questions and it included themes '\n",
      "          \"concerning the social influences on adolescents' education-and \"\n",
      "          'career-related views and choices in general and in the aspect of '\n",
      "          'gender-typing. In this article, we focus only on guidance '\n",
      "          \"counselors' responses to those interview questions related to \"\n",
      "          \"adolescents' occupational gender stereotypes and on comparing their \"\n",
      "          \"views with the ninth graders' views. The rest of the interview data \"\n",
      "          'is reported in the same research article that was referred to '\n",
      "          \"earlier in the case of ninth graders' survey data (Ikonen, \"\n",
      "          'Leinonen, Asikainen, & Hirvonen, 2018) .\\n'\n",
      "          'The interview protocol was piloted with one guidance counselor. '\n",
      "          'Based on the notions made during the pilot interview, the final '\n",
      "          'interviews were decided to conduct by means of semi-structured '\n",
      "          'interviews (Galletta, 2013) so that the interviewer was allowed to '\n",
      "          'change the order of the questions and ask additional questions to '\n",
      "          'address all the themes intended. Author 1 conducted the actual '\n",
      "          'interviews as phone interviews with seven school guidance '\n",
      "          'counselors from Eastern Finland area. The interviews were recorded '\n",
      "          'with a digital voice recorder by having the phone calls on speaker. '\n",
      "          'The interviews lasted on average an hour each. After the '\n",
      "          'recordings, Author 1 transcribed the interviews for the analysis.'},\n",
      " {'section_title': 'Sample',\n",
      "  'text': 'Altogether 348 ninth graders in the Eastern Finland area responded '\n",
      "          'to the survey. We included a trap question in the survey, and due '\n",
      "          'to the erroneous responses to the trap question, 246 pupils (96 '\n",
      "          'male, 150 female) were included in the analysis.\\n'\n",
      "          'When contacting the school guidance counselors for conducting the '\n",
      "          'survey in their lessons, they were also asked for participation in '\n",
      "          'the interviews. Out of the eight guidance counselors who conducted '\n",
      "          'the survey with their pupils, seven agreed to participate in the '\n",
      "          'interviews, as well.'},\n",
      " {'section_title': 'Data Analysis Methods',\n",
      "  'text': 'With the ninth graders responses to the Likert scale statements, '\n",
      "          'Mann-Whitney U test (Davis, 2013) was utilized to determine if '\n",
      "          'there were significant differences between the perceptions of boys '\n",
      "          'and girls.\\n'\n",
      "          \"Pupils' justifications to the statements were examined \"\n",
      "          'qualitatively by adapting and dividing their justifications into '\n",
      "          'categories depending on what gender-stereotypic dimensions were '\n",
      "          'observed in them. Author 1 made the categorization and unclear '\n",
      "          'justifications were discussed with other authors to find the '\n",
      "          'consensus about the best category. The categorization was based on '\n",
      "          'the dimensions by Cejka and Eagly (1999) . During the analysis '\n",
      "          'process, it was discovered that besides dimensions physical '\n",
      "          'attributes, personality attributes and qualities of cognition being '\n",
      "          'present in the data, two additional categories, gender-typical '\n",
      "          'interest and others, are required.\\n'\n",
      "          \"Concerning the guidance counselors' interview data, content \"\n",
      "          'analysis (Mayring, 2000) was used as a method whilst examining '\n",
      "          \"differences and similarities between the guidance counselors' views \"\n",
      "          'and experiences. Author 1 started the analysis with defining the '\n",
      "          'categories by inductive category development. With each interview '\n",
      "          \"questions, main categories for guidance counselors' responses were \"\n",
      "          'defined by reviewing all the responses and finding similarities and '\n",
      "          \"differences in guidance counselors' views. This inductive category \"\n",
      "          'development was executed by Authors 1 and 2 individually. Later, '\n",
      "          \"disagreements between researchers' category development and \"\n",
      "          'classification of the interview responses were discussed and '\n",
      "          \"compromised. Finally, guidance counselors' views were compared with \"\n",
      "          'the ninth graders views that mediated through the survey '\n",
      "          'responses. '},\n",
      " {'section_title': \"Ninth Graders' Perceptions of Gender-appropriateness of \"\n",
      "                   'Occupations',\n",
      "  'text': 'The percentages of ninth graders that slightly agreed or agreed to '\n",
      "          'the Likert scale statements presented in the survey are presented '\n",
      "          'in Table 2 . In every gender-related statement, there was a '\n",
      "          'statistically significant difference between the responses of boys '\n",
      "          \"and girls. This means that boys' perceptions of \"\n",
      "          'gender-appropriateness of occupations were stronger than those of '\n",
      "          \"girls'. Boys also considered their own gender affecting their \"\n",
      "          'occupational preferences stronger than girls did.\\n'\n",
      "          'The frequencies of gender-stereotypic dimensions occurring in ninth '\n",
      "          'graders justifications to the aforementioned Likert scale '\n",
      "          'statements 1 and 2 are presented in Table 3 . A few justifications '\n",
      "          'seemed to support the statements, even if the respondent had '\n",
      "          'disagreed in the Likert scale. We included those cases in Table 3 . '\n",
      "          'As some justifications included attributes of more than one '\n",
      "          'dimension, one justification can be placed in more than one '\n",
      "          'category simultaneously. Justifications that did not contain any of '\n",
      "          'the gender-stereotypic dimensions were placed in the category of '\n",
      "          'others.\\n'\n",
      "          'Statement number 3 was not included in this table because only '\n",
      "          'twelve respondents justified why they agreed in the statement, and '\n",
      "          'out of the gender-stereotypic dimensions, only masculine physical '\n",
      "          'attributes occurred in justifications of three girls. We show '\n",
      "          'discretionally four examples of what kind of justifications ninth '\n",
      "          'graders gave for the statement 3.'},\n",
      " {'section_title': \"Girls' perceptions\",\n",
      "  'text': 'Overall, 55 (36%) girls agreed to the statement number 1, some '\n",
      "          'occupations are more suitable for women than for men, and 36 girls '\n",
      "          'represented views supporting it in the comment box. Out of these '\n",
      "          'girls, 17 mentioned occupations that they considered more suitable '\n",
      "          'for women than for men, but they did not justify their views by '\n",
      "          'explicitly referring to any of the gender-stereotypic '\n",
      "          'characteristics. Two girls reported their observations of '\n",
      "          'femaledominance on some occupations. Responses like these are '\n",
      "          'included in the category others. Majority of the occupations '\n",
      "          'mentioned were related to health care and beauty industry. No '\n",
      "          'explicit references to STEM occupations were observed. Here are '\n",
      "          'three examples of these types of justifications.\\n'\n",
      "          'Girl A: \"A female nurse in a child health center is better [than a '\n",
      "          'male nurse].\" Girl B: \"Some occupations are more suitable for '\n",
      "          'women, a cosmetologist for example.\" Girl C: \"Some occupations just '\n",
      "          'are female dominated, a hairdresser for example.\"\\n'\n",
      "          'When it comes to the gender-stereotypic dimensions, none of the '\n",
      "          'girls referred to feminine personality attributes s when justifying '\n",
      "          'their responses to the statement 1 related to certain occupations '\n",
      "          'being more suitable for women than for men. Three girls justified '\n",
      "          'their answers by referring to physical attributes but two of these '\n",
      "          'justifications referred to jobs that are more suitable for men than '\n",
      "          'for women and thus were more relevant justifications for the '\n",
      "          \"statement 2. Girl F's justification referred to feminine physical \"\n",
      "          'attributes:\\n'\n",
      "          'Girl F: \"Being petite can be an advantage in some jobs.\"\\n'\n",
      "          'Ten girls justified their responses to statement 1 by referring to '\n",
      "          'feminine qualities of cognition:\\n'\n",
      "          'Girl D: \"Tasks that require precision are usually suitable for '\n",
      "          'women.\" Girl E: \"Clerical work is more suitable for women in some '\n",
      "          'cases because women are better in staying focused.\"\\n'\n",
      "          'Four girls highlighted gender-typical interest in their '\n",
      "          'justification as in the following example:\\n'\n",
      "          'Girl G: \"Mainly women enter to cosmetics industry for example, as '\n",
      "          'they are more interested in that kind of things.\"\\n'\n",
      "          'All in all, 66 (44%) girls agreed to the statement number 2, some '\n",
      "          'occupations are more suitable for men than for women, and 52 girls '\n",
      "          'represented views supporting it in the comment box. Out of these '\n",
      "          'girls, seven mentioned occupations that they considered more '\n",
      "          'suitable for women than for men, but they did not justify their '\n",
      "          'views by explicitly referring to any of the gender-stereotypic '\n",
      "          'characteristics. Five girls reported their observations of '\n",
      "          'maledominance on some occupations. Occupations that occurred in '\n",
      "          \"girls' justifications were construction worker, automobile \"\n",
      "          'mechanic, police officer and fire fighter. Responses like these are '\n",
      "          'included in the category others.\\n'\n",
      "          'Girl B: \"Automobile mechanic, for example, is a more suitable job '\n",
      "          'for men than for women.\"\\n'\n",
      "          'Not any of the girls referred to masculine cognitive attributes '\n",
      "          'when justifying their responses to this statement. A majority of '\n",
      "          'girls (41), referred to masculine physical attributes in their '\n",
      "          'justifications. Masculine personality attributes occurred only in '\n",
      "          \"Girl H's justification in which she also referred to masculine \"\n",
      "          'physical attributes:\\n'\n",
      "          'Girl H: \"Men are stronger and are not as scared of getting dirty as '\n",
      "          'the majority of women.\" Girl J: \"Jobs that require muscles. A '\n",
      "          'constructions laborer, for example.\"\\n'\n",
      "          'Two girls highlighted gender-typical interest in their '\n",
      "          'justification. In her response, the other of these girls also '\n",
      "          'brought out that despite men are usually more interested in certain '\n",
      "          'occupations, so can be some women, too:\\n'\n",
      "          'Girl J: \"Men are probably more interested in electrical work and '\n",
      "          'woodwork than women are, but there are talented women as well. It '\n",
      "          'depends on what one likes to do.\"\\n'\n",
      "          'Like in the case of statement 1, references to STEM occupations '\n",
      "          'were absent in the case of statement 2.\\n'\n",
      "          'Of the 24 (16 %) girls who agreed in the statement 3, my gender has '\n",
      "          'an influence on what occupations I consider suitable for myself, '\n",
      "          'only six offered a justification for their response. Masculine '\n",
      "          'physical attributes occurred in three of the justifications.\\n'\n",
      "          'Girl K: \"I would not be able to work in some of the \\'male\\' jobs '\n",
      "          'because they are physically too hard or too messy for me.\"\\n'\n",
      "          'Girl L: \"Some jobs that are physically very demanding can be almost '\n",
      "          'impossible for me.\"\\n'\n",
      "          'In the rest of justifications, the gender-typical dimensions were '\n",
      "          'not clearly present. One of the girls reported fears of not getting '\n",
      "          'a job because of its male dominance and another thought that some '\n",
      "          'jobs are not suitable for her because of her gender.\\n'\n",
      "          'Girl M: \"I am interested in the career of a boarding guide but I am '\n",
      "          'afraid I will not be able to work on that field because it is more '\n",
      "          'common for men.\"\\n'\n",
      "          'Girl N: \"I am not suitable for the jobs of police officer or '\n",
      "          'bouncer because I am a woman.\"'},\n",
      " {'section_title': \"Boys' perceptions\",\n",
      "  'text': 'Overall 51 (53%) boys agreed to the statement number 1, some '\n",
      "          'occupations are more suitable for women than for men, and 25 boys '\n",
      "          'represented views supporting it in the comment box. 17 of them '\n",
      "          'reported an occupation or several occupations that they considered '\n",
      "          'more suitable for women than for men. These respondents did not '\n",
      "          'justify their views by explicitly referring to any of the '\n",
      "          'gender-stereotypic characteristics, and thus they are included in '\n",
      "          'the category of others in table 3. Beauty and health care related '\n",
      "          'occupations were the most commonly mentioned ones similarly to the '\n",
      "          \"girls' views introduced above. Other domains that boys mentioned \"\n",
      "          'more suitable for women were cooking, cleaning, teaching and '\n",
      "          'crafts. References to STEM fields were absent here.\\n'\n",
      "          'Boy A: \"Make up products, for example, are more familiar to women '\n",
      "          'than for men.\" Boy B: \"Women are better in cooking, cleaning and '\n",
      "          'teaching.\"\\n'\n",
      "          'One of the boys wrote: Boy C: \"Some occupations are '\n",
      "          '\\'embarrassing\\' for men.\" None of the boys referred explicitly to '\n",
      "          'feminine personality attributes or feminine physical attributes '\n",
      "          'when justifying their responses to the statement number 1 related '\n",
      "          'to certain occupations being more suitable for women than for men.\\n'\n",
      "          'Six of the boys justified their responses by referring to feminine '\n",
      "          'qualities of cognition and one of them included also the aspect of '\n",
      "          'gender-typical interest in his justification: Boy D: \"Nowadays '\n",
      "          'women are maybe a bit more eager to educate themselves than men are '\n",
      "          'and they will get better jobs, too… However, there are certain '\n",
      "          'occupations that men are simply not interested in.\"\\n'\n",
      "          'Boy E: \"Women may be a bit more intelligent and niftier than men '\n",
      "          'are.\"\\n'\n",
      "          'Overall, 59 (61%) boys agreed to the statement number 2, some '\n",
      "          'occupations are more suitable for men than for women, and 25 boys '\n",
      "          'represented views supporting it in the comment box. Five of them '\n",
      "          'reported occupations that they considered more suitable for men '\n",
      "          'than for women. Occupations that occurred these responses were '\n",
      "          'construction laborer and truck driver. One of the boys stated that '\n",
      "          'women just are not capable of doing some things that men are '\n",
      "          'capable of doing. No any of these respondents justified their views '\n",
      "          'by explicitly referring to any of the genderstereotypic '\n",
      "          'characteristics, and thus they are included in the category of '\n",
      "          'others in Table 3 .\\n'\n",
      "          'Overall, 19 boys referred to masculine physical attributes in their '\n",
      "          'justifications and they mentioned occupations like construction '\n",
      "          'laborer, miner, fire fighter and police officer, similarly to girls '\n",
      "          'in their justifications. Boy F: \"In some occupations, physical '\n",
      "          'strength is required. A firefighter is an example of such '\n",
      "          'occupations.\"\\n'\n",
      "          \"No other gender-typical dimensions occurred in boys' justifications \"\n",
      "          'and no explicit references to STEM occupations were observed in the '\n",
      "          'case of statement 2.\\n'\n",
      "          'Of the 31 (32%) boys who agreed in the statement number 3, my '\n",
      "          'gender has an influence on what occupations I consider suitable for '\n",
      "          'myself, only six offered a justification for their response. Gender '\n",
      "          'stereotypic dimensions did not occur in their justifications. Boys '\n",
      "          'reported that some female dominated occupations simply are not '\n",
      "          'suitable for them or that they believe others thinking in that way: '\n",
      "          'Boy G: \"As a male, I do not consider working in the cosmetics '\n",
      "          'industry suitable for myself.\" Boy H: \"Some people prefer female '\n",
      "          'doctors, for example.\"'},\n",
      " {'section_title': \"School Guidance Counselors' Views related to Ninth \"\n",
      "                   \"Graders' Perceptions of Genderappropriateness of \"\n",
      "                   'Occupations',\n",
      "  'text': 'Each one of the seven interviewed school guidance counselors '\n",
      "          '(abbreviated as GC1-7 in the examples of the interview responses) '\n",
      "          'had noticed some of their pupils holding gender stereotypical ideas '\n",
      "          'of occupations. The ideas that guidance counselors brought out '\n",
      "          'represented masculine physical and feminine personality attributes '\n",
      "          '(Cejka & Eagly, 1999) . The occupations that guidance counselors '\n",
      "          'reported their pupils often consider more suitable for men were '\n",
      "          'truck driver, technical professions and jobs related to national '\n",
      "          'defense and emergency services. No other STEM occupations besides '\n",
      "          'technical professions occurred in guidance counselors interview '\n",
      "          'responses. The occupations that guidance counselors reported their '\n",
      "          'pupils often consider more suitable for women, in turn, were social '\n",
      "          'and healthcare related jobs, cosmetologist, hairdresser and '\n",
      "          'artisan. GC1: \"They think that engineering and jobs related to '\n",
      "          'national defense and emergency services are for men.\\n'\n",
      "          'Respectively, they think that especially jobs related to textile '\n",
      "          'crafts are for women.\"\\n'\n",
      "          'GC4: \"Here at the rural area pupils hold quite traditional ideas of '\n",
      "          'occupations… Ideas of male and female jobs... It is still quite a '\n",
      "          'strong phenomenon here.\"\\n'\n",
      "          'GC7: \"The ideas are terribly stereotypical actually. An image of a '\n",
      "          'man working with machines persists. In turn, childcare and '\n",
      "          'healthcare are linked to women.\"\\n'\n",
      "          'One of the guidance counselors brought out that especially boys '\n",
      "          'hold gender-stereotypes of occupations.\\n'\n",
      "          'GC3: \"Boys have these persistent ideas that certain jobs are not '\n",
      "          'suitable for girls or women, for example a truck driver or other '\n",
      "          'jobs related to motoring.\"\\n'\n",
      "          'Guidance counselors were asked, if adolescents rule professional '\n",
      "          'fields dominated by the opposite gender out during their '\n",
      "          'educational and occupational choice process.\\n'\n",
      "          'GC3: \"Well, I do not think that they are absolute with this. I do '\n",
      "          'not think that they rule out any professional fields outright '\n",
      "          'because of that. But, for sure it has an influence on their '\n",
      "          'occupational plans.\"\\n'\n",
      "          'GC5: \"Boys usually rule out the occupation of a hairdresser at '\n",
      "          'least. They think that it is not their cup of tea.\\n'\n",
      "          'In general, I do not know… Some adolescents may rule out certain '\n",
      "          'occupations because of that.\"\\n'\n",
      "          'GC7: \"I do not know how conscious that is. But in fact, sometimes '\n",
      "          \"they immediately say 'no' to some occupations when we explore \"\n",
      "          'different options. Therefore, it might be true.\"\\n'\n",
      "          \"Generally, it can be seen that guidance counselors' views are in \"\n",
      "          \"agreement with ninth graders' survey responses in a sense that \"\n",
      "          \"adolescents' views regarding gender-appropriateness of occupations \"\n",
      "          'are still very common. Genderstereotypic perceptions are clearly '\n",
      "          \"present in guidance counseling and influence on adolescents' \"\n",
      "          'educational and occupational choices.'},\n",
      " {'section_title': 'DISCUSSION',\n",
      "  'text': \"This study investigated Finnish ninth graders' and their school \"\n",
      "          \"guidance counselors' views regarding ninth graders' perceptions of \"\n",
      "          'gender-appropriateness of occupations. Special interest was placed '\n",
      "          'on evaluating if ninth graders bring out any gender stereotypical '\n",
      "          'perceptions regarding science, technology, engineering or '\n",
      "          'mathematics (STEM) occupations. Knowledge gained in this study '\n",
      "          'indicates what type of career education related interventions are '\n",
      "          'required in middle school level for enhancing ninth graders ability '\n",
      "          'to make more informed decisions concerning their future and to '\n",
      "          \"challenge persistent gender segregation patterns in todays' \"\n",
      "          'education and working life.\\n'\n",
      "          'The results of our study suggest that the long-standing cultural '\n",
      "          'stereotypes of women being more selfless, caring and concerned '\n",
      "          'about others, than men (Eagly & Steffen, 1984; Kite, Deaux, & '\n",
      "          'Haines, 2008) , may be still thriving amongst the young people in '\n",
      "          'Finland. Finnish ninth graders participated in the study considered '\n",
      "          'that especially beauty, healthcare and childcare related '\n",
      "          'occupations are more suitable for women than for men and justified '\n",
      "          'their views by stating that women are more interested, competent or '\n",
      "          'simply more suitable for these occupations. In the study of Cejka '\n",
      "          'and Eagly (1999) students clearly associated success in '\n",
      "          'female-dominated occupations with stereotypical female personality '\n",
      "          'attributes, such as being gentle, nurturing and helpful to others. '\n",
      "          'These kinds of views might have also been underlying in the '\n",
      "          'justifications of the sample of ninth graders in this study.\\n'\n",
      "          'Our results also suggest that Finnish ninth graders referred to '\n",
      "          'attributes physically strong and daring when thinking about jobs '\n",
      "          'suitable for men. Ninth graders considered the jobs such as '\n",
      "          'construction laborer, firefighter, truck driver and police officer '\n",
      "          'more suitable for men than for women since these jobs require '\n",
      "          'physical strength which men in most cases possess more than women '\n",
      "          'do. However, in the study by Cejka and Eagly (1999) , students '\n",
      "          'rated masculine physical attributes only somewhat important but '\n",
      "          'masculine cognitive attributes as most important for success in '\n",
      "          'male-dominated occupations even though the male-dominant '\n",
      "          'occupations included jobs like construction laborer and truck '\n",
      "          'driver.\\n'\n",
      "          'The interviewed school guidance counselors had also noticed their '\n",
      "          'pupils holding gender stereotypical views of occupations. The '\n",
      "          'occupations that guidance counselors reported their pupils usually '\n",
      "          'linking to certain gender, were similar with those which occurred '\n",
      "          \"in ninth graders' survey responses; occupations in female-dominated \"\n",
      "          'fields of healthcare and beauty and occupations in male-dominated '\n",
      "          'construction branch and firefighting. According to the guidance '\n",
      "          'counselors, adolescents rule sometimes whole fields out of their '\n",
      "          'preference, if the occupations in the field are dominated by the '\n",
      "          'opposite gender. This happens typically with boys and beauty '\n",
      "          'industry.\\n'\n",
      "          \"The results show that Finnish boys' views regarding \"\n",
      "          'gender-appropriateness of occupations were stronger than those of '\n",
      "          \"girls'. Boys also considered their gender affecting their own \"\n",
      "          'occupational preferences stronger than girls did. One of the '\n",
      "          \"guidance counselors' views were in line with the survey responses, \"\n",
      "          'as he/she reported observations of male pupils holding more '\n",
      "          'segregation-oriented perceptions than female pupils. Therefore, '\n",
      "          'these findings are similar to earlier research findings (Francis, '\n",
      "          '2002; Miller & Budd, 1999; Miller & Hayward, 2006) . The results of '\n",
      "          'this study suggest that especially boys should be supported in '\n",
      "          'questioning stereotypes concerning genders and jobs. Individual '\n",
      "          'school guidance counseling could be a good environment in helping '\n",
      "          'boys in career exploration without social pressure and '\n",
      "          'gender-expectations.\\n'\n",
      "          \"It was surprising that Finnish ninth graders' survey responses did \"\n",
      "          'not include perceptions of genderappropriateness of STEM '\n",
      "          'occupations. Not girls nor boys report any STEM occupation being '\n",
      "          'more suitable for certain gender. Neither did any of them bring out '\n",
      "          'stereotypical masculine cognitive attributes (Cejka & Eagly, 1999) '\n",
      "          'such as mathematical, good with numbers or good in problem solving, '\n",
      "          'which are traditionally associated with competence in STEM jobs. In '\n",
      "          'addition, views related gender differences in the interest towards '\n",
      "          'the fields of science, mathematics, technology or engineering, were '\n",
      "          'absent. These results suggest that gender stereotypes related to '\n",
      "          'STEM occupations are not as strong among ninth graders as the '\n",
      "          'stereotypes concerning the more traditional occupations such as '\n",
      "          'nurse, construction laborer, and truck driver. It might have also '\n",
      "          'been so that STEM occupations are not familiar enough amongst ninth '\n",
      "          'graders so that they could have brought out their perceptions of '\n",
      "          'them in a study like this. With regards to the sample, future '\n",
      "          'research should investigate, if stereotypes regarding cognitive '\n",
      "          'attributes occur more frequently amongst upper secondary school '\n",
      "          'students than with ninth graders. The importance of mathematics '\n",
      "          'skills in STEM careers may become more evident at upper secondary '\n",
      "          'level, which is an essential point of time for making choices '\n",
      "          'related to higher education and career.\\n'\n",
      "          'The results of this study cause concern regarding the state of STEM '\n",
      "          'career knowledge amongst adolescents. The underlying reason for the '\n",
      "          'total lack of STEM related views in this study may be the fact that '\n",
      "          'STEM jobs do not become as familiar to adolescents in everyday life '\n",
      "          'as do the more traditional occupations, such as teachers, '\n",
      "          'salespersons, police officers or nurses. On the other hand, it is a '\n",
      "          'positive signal that no stereotypes regarding male superiority in '\n",
      "          'math, science and technology occurred. However, the survey did not '\n",
      "          'include closed-ended questions regarding gender-appropriateness of '\n",
      "          'occupations, which would have deepened the results. Also '\n",
      "          'interviewing adolescents would have been beneficial in obtaining '\n",
      "          'more profound data on occupational stereotypes.\\n'\n",
      "          \"Earlier research on students' perceptions of scientists have shown \"\n",
      "          'that students do not have a clear perception of what science has to '\n",
      "          'offer them or what scientists do (Wyss, Heulskamp, & Siebert, 2012) '\n",
      "          '. Similar evidence has been given also about ICT jobs (Technology '\n",
      "          \"Industries of Finland, 2010) and mathematicians' job (Picker & \"\n",
      "          'Berry, 2000) . Considering future research, interesting knowledge '\n",
      "          \"would be gained by exploring pupils' awareness on STEM occupations \"\n",
      "          'and the skills and attributes that STEM occupations nowadays '\n",
      "          'require and comparing their ideas with the actual job descriptions '\n",
      "          'from STEM professionals. In addition, the impact of insufficient '\n",
      "          'career knowledge or false perceptions of occupations may have on '\n",
      "          \"especially girls' retention of STEM careers, should be investigated \"\n",
      "          'more.\\n'\n",
      "          'More attention should be paid in secondary level STEM subject '\n",
      "          \"teachers' ideas on their STEM career knowledge and their attitudes \"\n",
      "          'on incorporating it into subject teaching. In addition, even though '\n",
      "          'the role of schools in making young people ready for working life '\n",
      "          'is often emphasized, earlier research gives only limited insight '\n",
      "          'into the extent and ways of actual career-related activities that '\n",
      "          'STEM subject teachers are currently embedding into their lessons '\n",
      "          'and how effective they are in terms of pupil engagement. The study '\n",
      "          'of Ikonen, Leinonen, Asikainen, and Hirvonen, (2018) revealed that '\n",
      "          'education and career related discussions between STEM subject '\n",
      "          'teachers and ninth graders are minimal; in this study only a couple '\n",
      "          \"of ninth-graders reported heeding their teachers' advice the most \"\n",
      "          'when making such decisions. The study of Sherman-Morris, Brown, '\n",
      "          \"Dyer, McNeal, and Rodgers (2013) regarding teachers' knowledge of \"\n",
      "          'geoscience and biology careers suggest that if teachers have less '\n",
      "          'knowledge of these careers, they may have difficulties in '\n",
      "          'incorporating examples of those careers in their classes. On the '\n",
      "          'other hand, earlier studies have indicated that teachers with '\n",
      "          \"encouraging attitudes can promote students' interest in choosing a \"\n",
      "          'career in science or engineering (Buschor, Kappler, Keck, & '\n",
      "          'Berweger, 2014; Dick & Rallis, 1991; Hazari, Sonnert, Sadler, & '\n",
      "          'Shanahan, 2010) . Dick and Rallis (1991) argue that teachers may '\n",
      "          'play a particularly important role in influencing the career '\n",
      "          'choices of female students orienting towards science or '\n",
      "          'engineering. Therefore, we suggest that STEM subject teachers '\n",
      "          'should be better supported in providing up-to-date career advice, '\n",
      "          'showing the connections between STEM subjects and working life, and '\n",
      "          'introducing different types of STEM professional role models to '\n",
      "          'pupils. Supporting STEM subject teachers in incorporating career '\n",
      "          'education in classes is in demand in Finland where compulsory basic '\n",
      "          'education has started to implement a revised national core '\n",
      "          'curriculum in which entrepreneurship and skills for working life '\n",
      "          'are two of the aims set for transversal competences (FNBE, 2014, p. '\n",
      "          '24-25) . The curriculum also emphasizes now particularly on physics '\n",
      "          \"and chemistry with a view to increase pupils' awareness of careers \"\n",
      "          'that require skills in these subjects (FNBE, 2014, p. 418, p. 424) '\n",
      "          '.'},\n",
      " {'section_title': 'CONCLUSION',\n",
      "  'text': \"This study documents that Finnish ninth graders' perceptions of \"\n",
      "          'gender-appropriateness of occupations in general are strong, which '\n",
      "          'may partially explain why young people in Finland still make such '\n",
      "          'traditional career choices. Researchers from other countries that '\n",
      "          'are suffering from segregated labor markets have highlighted, that '\n",
      "          'young people lack the knowledge that is required to make informed '\n",
      "          'decisions about careers (Francis, 2002) and they should be provided '\n",
      "          \"with career knowledge also of the 'atypical' fields already in \"\n",
      "          'younger age, before the key career plans are made (Miller & '\n",
      "          'Hayward, 2006) . In Finland, more attention should be paid in the '\n",
      "          'career education, already at the elementary level, and encourage '\n",
      "          'children and adolescents to examine and challenge traditional '\n",
      "          'gender roles and occupational gender stereotypes. Developing novel '\n",
      "          'educational methods for supporting children and adolescents to '\n",
      "          'consider a wider range of occupations, is definitely required.'}]\n"
     ]
    }
   ],
   "source": [
    "with open('coleridgeinitiative/data/0008656f-0ba2-4632-8602-3017b44c2e90.json', 'r') as file:\n",
    "    pprint(json.load(file))"
   ]
  },
  {
   "cell_type": "code",
   "execution_count": 9,
   "id": "9aaaa555",
   "metadata": {},
   "outputs": [
    {
     "data": {
      "text/html": [
       "<div>\n",
       "<style scoped>\n",
       "    .dataframe tbody tr th:only-of-type {\n",
       "        vertical-align: middle;\n",
       "    }\n",
       "\n",
       "    .dataframe tbody tr th {\n",
       "        vertical-align: top;\n",
       "    }\n",
       "\n",
       "    .dataframe thead th {\n",
       "        text-align: right;\n",
       "    }\n",
       "</style>\n",
       "<table border=\"1\" class=\"dataframe\">\n",
       "  <thead>\n",
       "    <tr style=\"text-align: right;\">\n",
       "      <th></th>\n",
       "      <th>Id</th>\n",
       "      <th>pub_title</th>\n",
       "      <th>dataset_title</th>\n",
       "      <th>dataset_label</th>\n",
       "      <th>cleaned_label</th>\n",
       "    </tr>\n",
       "  </thead>\n",
       "  <tbody>\n",
       "    <tr>\n",
       "      <th>7736</th>\n",
       "      <td>0008656f-0ba2-4632-8602-3017b44c2e90</td>\n",
       "      <td>Finnish Ninth Graders’ Gender Appropriateness ...</td>\n",
       "      <td>Trends in International Mathematics and Scienc...</td>\n",
       "      <td>Trends in International Mathematics and Scienc...</td>\n",
       "      <td>trends in international mathematics and scienc...</td>\n",
       "    </tr>\n",
       "  </tbody>\n",
       "</table>\n",
       "</div>"
      ],
      "text/plain": [
       "                                        Id  \\\n",
       "7736  0008656f-0ba2-4632-8602-3017b44c2e90   \n",
       "\n",
       "                                              pub_title  \\\n",
       "7736  Finnish Ninth Graders’ Gender Appropriateness ...   \n",
       "\n",
       "                                          dataset_title  \\\n",
       "7736  Trends in International Mathematics and Scienc...   \n",
       "\n",
       "                                          dataset_label  \\\n",
       "7736  Trends in International Mathematics and Scienc...   \n",
       "\n",
       "                                          cleaned_label  \n",
       "7736  trends in international mathematics and scienc...  "
      ]
     },
     "execution_count": 9,
     "metadata": {},
     "output_type": "execute_result"
    }
   ],
   "source": [
    "df.loc[df[\"Id\"] == '0008656f-0ba2-4632-8602-3017b44c2e90']"
   ]
  },
  {
   "cell_type": "code",
   "execution_count": 10,
   "id": "f7069c8f",
   "metadata": {},
   "outputs": [],
   "source": [
    "data_path = 'coleridgeinitiative/data'"
   ]
  },
  {
   "cell_type": "code",
   "execution_count": null,
   "id": "7ab518ed",
   "metadata": {},
   "outputs": [],
   "source": []
  },
  {
   "cell_type": "code",
   "execution_count": null,
   "id": "42825c21",
   "metadata": {},
   "outputs": [],
   "source": []
  },
  {
   "cell_type": "code",
   "execution_count": 11,
   "id": "9488623f",
   "metadata": {},
   "outputs": [],
   "source": [
    "def clean_text(txt):\n",
    "     return re.sub('[^A-Za-z0-9.]+', ' ', str(txt).lower())"
   ]
  },
  {
   "cell_type": "code",
   "execution_count": 12,
   "id": "72b6646e",
   "metadata": {},
   "outputs": [],
   "source": [
    "MAX_LENGTH = 64\n",
    "OVERLAP = 20\n",
    "    \n",
    "def shorten_sentences(sentences):\n",
    "    \"\"\"\n",
    "    Sentences that have more than MAX_LENGTH words will be split\n",
    "    into multiple sentences with overlappings.\n",
    "    \"\"\"\n",
    "    short_sentences = []\n",
    "    for sentence in sentences:\n",
    "        words = sentence.split()\n",
    "        if len(words) > MAX_LENGTH:\n",
    "            for p in range(0, len(words), MAX_LENGTH - OVERLAP):\n",
    "                short_sentences.append(' '.join(words[p:p+MAX_LENGTH]))\n",
    "        else:\n",
    "            short_sentences.append(sentence)\n",
    "    return short_sentences"
   ]
  },
  {
   "cell_type": "code",
   "execution_count": 13,
   "id": "d7ee29d6",
   "metadata": {},
   "outputs": [],
   "source": [
    "def preprocess_text(text):\n",
    "    # Clean and shorten the text, remove short sentences\n",
    "    sentences = [clean_text(sentence) for sentence in nltk.sent_tokenize(text)]\n",
    "    sentences = shorten_sentences(sentences)\n",
    "    return [sentence for sentence in sentences if len(sentence) > 10]"
   ]
  },
  {
   "cell_type": "code",
   "execution_count": 14,
   "id": "d4ef1cdb",
   "metadata": {},
   "outputs": [],
   "source": [
    "def contains_label(sentence, labels):\n",
    "    # Check if the sentence contains any of the labels\n",
    "    return any(re.search(label.lower(), sentence) for label in labels)"
   ]
  },
  {
   "cell_type": "code",
   "execution_count": 15,
   "id": "eea6cb9a",
   "metadata": {},
   "outputs": [
    {
     "name": "stdout",
     "output_type": "stream",
     "text": [
      "Text with dataset: 380\n",
      "Text without dataset: 328\n"
     ]
    }
   ],
   "source": [
    "data = []\n",
    "label_count = 0\n",
    "empty_count = 0\n",
    "\n",
    "for _, row in df.iterrows():\n",
    "    # Load the data\n",
    "    if os.path.exists(f\"{data_path}/{row.Id}.json\"):\n",
    "        with open(f\"{data_path}/{row.Id}.json\") as f:\n",
    "            json_data = json.load(f)\n",
    "\n",
    "        sentences = preprocess_text(str(json_data))\n",
    "        labels = [row.cleaned_label.lower(), row.dataset_label.lower(), row.dataset_title.lower()]\n",
    "\n",
    "        balanced = False\n",
    "        for sentence in sentences:\n",
    "            if contains_label(sentence, labels):\n",
    "                data.append((sentence, labels[0])) # use cleaned_label as the standard label\n",
    "                label_count += 1\n",
    "                balanced = True\n",
    "            elif balanced:\n",
    "                empty_count += 1\n",
    "                balanced = False\n",
    "\n",
    "print('Text with dataset:', label_count)\n",
    "print('Text without dataset:', empty_count)\n"
   ]
  },
  {
   "cell_type": "code",
   "execution_count": 16,
   "id": "f1851746",
   "metadata": {},
   "outputs": [
    {
     "data": {
      "text/plain": [
       "[('using data from the national education longitudinal study of 1988 i find that as parents education increases children in single mother families experience a lower boost in their achievement test scores likelihood of attending any post secondary schooling likelihood of completing a 4 year college degree and years of completed schooling relative to children living with both biological parents.',\n",
       "  'national education longitudinal study'),\n",
       " (' section title data and methods text data for this analysis derive from the national education longitudinal study of 1988 nels 88 a nationally representative two stage stratified cluster sample representative of 1988 u.s. 8th graders.',\n",
       "  'national education longitudinal study'),\n",
       " ('other empirical results from the national education longitudinal study show that same gender teaching increases the test scores of eighth grade children dee 2005b .',\n",
       "  'national education longitudinal study'),\n",
       " ('again the intention here is not to engage in a comparative discussion rather the goal is to highlight that a positive relationship between mathematics and science achievement and course taking exists across multiple data sets naep national education longitudinal study nels sat and act perkins et al. 2004 stubborn racial scoring gap 2004 tate 1997 .',\n",
       "  'national education longitudinal study'),\n",
       " ('similarly ludwig and miller 2007 using data from the national education longitudinal study nels reported significant impacts of head start on these measures of young adult schooling attainment despite a lack of significant impacts on 8th grade reading and math test scores or grades. ntaken together this research suggests that long term schoolingrelated impacts of head start can occur in the context of short',\n",
       "  'national education longitudinal study')]"
      ]
     },
     "execution_count": 16,
     "metadata": {},
     "output_type": "execute_result"
    }
   ],
   "source": [
    "data[:5]"
   ]
  },
  {
   "cell_type": "code",
   "execution_count": null,
   "id": "5e32c2d7",
   "metadata": {},
   "outputs": [],
   "source": []
  },
  {
   "cell_type": "code",
   "execution_count": 17,
   "id": "db978de2",
   "metadata": {},
   "outputs": [
    {
     "data": {
      "text/html": [
       "<div>\n",
       "<style scoped>\n",
       "    .dataframe tbody tr th:only-of-type {\n",
       "        vertical-align: middle;\n",
       "    }\n",
       "\n",
       "    .dataframe tbody tr th {\n",
       "        vertical-align: top;\n",
       "    }\n",
       "\n",
       "    .dataframe thead th {\n",
       "        text-align: right;\n",
       "    }\n",
       "</style>\n",
       "<table border=\"1\" class=\"dataframe\">\n",
       "  <thead>\n",
       "    <tr style=\"text-align: right;\">\n",
       "      <th></th>\n",
       "      <th>Sentence</th>\n",
       "      <th>Label</th>\n",
       "    </tr>\n",
       "  </thead>\n",
       "  <tbody>\n",
       "    <tr>\n",
       "      <th>0</th>\n",
       "      <td>using data from the national education longitu...</td>\n",
       "      <td>national education longitudinal study</td>\n",
       "    </tr>\n",
       "    <tr>\n",
       "      <th>1</th>\n",
       "      <td>section title data and methods text data for ...</td>\n",
       "      <td>national education longitudinal study</td>\n",
       "    </tr>\n",
       "    <tr>\n",
       "      <th>2</th>\n",
       "      <td>other empirical results from the national educ...</td>\n",
       "      <td>national education longitudinal study</td>\n",
       "    </tr>\n",
       "    <tr>\n",
       "      <th>3</th>\n",
       "      <td>again the intention here is not to engage in a...</td>\n",
       "      <td>national education longitudinal study</td>\n",
       "    </tr>\n",
       "    <tr>\n",
       "      <th>4</th>\n",
       "      <td>similarly ludwig and miller 2007 using data fr...</td>\n",
       "      <td>national education longitudinal study</td>\n",
       "    </tr>\n",
       "  </tbody>\n",
       "</table>\n",
       "</div>"
      ],
      "text/plain": [
       "                                            Sentence  \\\n",
       "0  using data from the national education longitu...   \n",
       "1   section title data and methods text data for ...   \n",
       "2  other empirical results from the national educ...   \n",
       "3  again the intention here is not to engage in a...   \n",
       "4  similarly ludwig and miller 2007 using data fr...   \n",
       "\n",
       "                                   Label  \n",
       "0  national education longitudinal study  \n",
       "1  national education longitudinal study  \n",
       "2  national education longitudinal study  \n",
       "3  national education longitudinal study  \n",
       "4  national education longitudinal study  "
      ]
     },
     "execution_count": 17,
     "metadata": {},
     "output_type": "execute_result"
    }
   ],
   "source": [
    "train_df = pd.DataFrame(data, columns=['Sentence', 'Label'])\n",
    "train_df.head()"
   ]
  },
  {
   "cell_type": "code",
   "execution_count": 18,
   "id": "a58c15bf",
   "metadata": {},
   "outputs": [
    {
     "data": {
      "text/plain": [
       "Sentence    334\n",
       "Label        43\n",
       "dtype: int64"
      ]
     },
     "execution_count": 18,
     "metadata": {},
     "output_type": "execute_result"
    }
   ],
   "source": [
    "train_df.nunique()"
   ]
  },
  {
   "cell_type": "code",
   "execution_count": 19,
   "id": "c83ac189",
   "metadata": {},
   "outputs": [
    {
     "data": {
      "text/html": [
       "<div>\n",
       "<style scoped>\n",
       "    .dataframe tbody tr th:only-of-type {\n",
       "        vertical-align: middle;\n",
       "    }\n",
       "\n",
       "    .dataframe tbody tr th {\n",
       "        vertical-align: top;\n",
       "    }\n",
       "\n",
       "    .dataframe thead th {\n",
       "        text-align: right;\n",
       "    }\n",
       "</style>\n",
       "<table border=\"1\" class=\"dataframe\">\n",
       "  <thead>\n",
       "    <tr style=\"text-align: right;\">\n",
       "      <th></th>\n",
       "      <th>Sentence</th>\n",
       "      <th>Label</th>\n",
       "    </tr>\n",
       "  </thead>\n",
       "  <tbody>\n",
       "    <tr>\n",
       "      <th>375</th>\n",
       "      <td>importantly the sars cov 2 genome sequence fro...</td>\n",
       "      <td>sars cov 2 genome sequence</td>\n",
       "    </tr>\n",
       "    <tr>\n",
       "      <th>376</th>\n",
       "      <td>nine complete sars cov 2 genome sequences from...</td>\n",
       "      <td>sars cov 2 genome sequences</td>\n",
       "    </tr>\n",
       "    <tr>\n",
       "      <th>377</th>\n",
       "      <td>for example 80 of confirmed covid 19 cases up ...</td>\n",
       "      <td>sars cov 2 full genome sequences</td>\n",
       "    </tr>\n",
       "    <tr>\n",
       "      <th>378</th>\n",
       "      <td>the whole genome sequence of covid 19 has abou...</td>\n",
       "      <td>genome sequence of covid 19</td>\n",
       "    </tr>\n",
       "    <tr>\n",
       "      <th>379</th>\n",
       "      <td>section title methods text we used the public...</td>\n",
       "      <td>covid 19 image data collection</td>\n",
       "    </tr>\n",
       "  </tbody>\n",
       "</table>\n",
       "</div>"
      ],
      "text/plain": [
       "                                              Sentence  \\\n",
       "375  importantly the sars cov 2 genome sequence fro...   \n",
       "376  nine complete sars cov 2 genome sequences from...   \n",
       "377  for example 80 of confirmed covid 19 cases up ...   \n",
       "378  the whole genome sequence of covid 19 has abou...   \n",
       "379   section title methods text we used the public...   \n",
       "\n",
       "                                Label  \n",
       "375        sars cov 2 genome sequence  \n",
       "376       sars cov 2 genome sequences  \n",
       "377  sars cov 2 full genome sequences  \n",
       "378       genome sequence of covid 19  \n",
       "379    covid 19 image data collection  "
      ]
     },
     "execution_count": 19,
     "metadata": {},
     "output_type": "execute_result"
    }
   ],
   "source": [
    "train_df.tail()"
   ]
  },
  {
   "cell_type": "code",
   "execution_count": null,
   "id": "9decc4b2",
   "metadata": {},
   "outputs": [],
   "source": []
  },
  {
   "cell_type": "code",
   "execution_count": 20,
   "id": "6dcd520c",
   "metadata": {},
   "outputs": [],
   "source": [
    "import pickle"
   ]
  },
  {
   "cell_type": "code",
   "execution_count": 21,
   "id": "158d1ed5",
   "metadata": {},
   "outputs": [],
   "source": [
    "from sklearn.model_selection import train_test_split, KFold, cross_val_score\n",
    "from sklearn.metrics import classification_report, precision_score, recall_score, f1_score, accuracy_score\n",
    "\n",
    "# get cross validation to make sure model has\n",
    "# gotten most of the patterns from the data correctly, \n",
    "# and its not picking up too much on the noise\n",
    "k_fold = KFold(n_splits = 5)"
   ]
  },
  {
   "cell_type": "code",
   "execution_count": 22,
   "id": "5ba2e748",
   "metadata": {},
   "outputs": [],
   "source": [
    "from sklearn.feature_extraction.text import TfidfVectorizer"
   ]
  },
  {
   "cell_type": "code",
   "execution_count": 23,
   "id": "f9d114fb",
   "metadata": {},
   "outputs": [],
   "source": [
    "X = train_df['Sentence'].to_numpy()\n",
    "y = train_df['Label'].to_numpy()"
   ]
  },
  {
   "cell_type": "code",
   "execution_count": 24,
   "id": "bae74483",
   "metadata": {},
   "outputs": [],
   "source": [
    "X_train, X_test, y_train, y_test = train_test_split(X, y, test_size = 0.2, random_state = 123)"
   ]
  },
  {
   "cell_type": "code",
   "execution_count": 25,
   "id": "92dbef12",
   "metadata": {},
   "outputs": [],
   "source": [
    "summary = pd.DataFrame(\n",
    "    {\n",
    "        'Model': [],\n",
    "        'Accuracy': [],\n",
    "        'CV': [],\n",
    "        'Precision': [],\n",
    "        'Recall': [],\n",
    "        'F1': []\n",
    "    }\n",
    ")"
   ]
  },
  {
   "cell_type": "code",
   "execution_count": null,
   "id": "378d37b8",
   "metadata": {},
   "outputs": [],
   "source": []
  },
  {
   "cell_type": "code",
   "execution_count": null,
   "id": "35277fb2",
   "metadata": {},
   "outputs": [],
   "source": []
  },
  {
   "cell_type": "code",
   "execution_count": null,
   "id": "ce72ee6a",
   "metadata": {},
   "outputs": [],
   "source": []
  },
  {
   "cell_type": "code",
   "execution_count": 26,
   "id": "0756b0ed",
   "metadata": {},
   "outputs": [],
   "source": [
    "# https://developers.google.com/machine-learning/guides/text-classification/step-3"
   ]
  },
  {
   "cell_type": "code",
   "execution_count": 27,
   "id": "c67baa55",
   "metadata": {},
   "outputs": [
    {
     "name": "stderr",
     "output_type": "stream",
     "text": [
      "/opt/conda/envs/bigdata/lib/python3.10/site-packages/sklearn/utils/_param_validation.py:541: FutureWarning: Passing an int for a boolean parameter is deprecated in version 1.2 and won't be supported anymore in version 1.4.\n",
      "  warnings.warn(\n",
      "/opt/conda/envs/bigdata/lib/python3.10/site-packages/sklearn/feature_extraction/text.py:2070: UserWarning: Only (<class 'numpy.float64'>, <class 'numpy.float32'>, <class 'numpy.float16'>) 'dtype' should be used. int32 'dtype' will be converted to np.float64.\n",
      "  warnings.warn(\n"
     ]
    }
   ],
   "source": [
    "vectorizer = TfidfVectorizer(\n",
    "    min_df = 1,\n",
    "    dtype = 'int32',\n",
    "    strip_accents = 'unicode',\n",
    "    analyzer = 'word',\n",
    "    token_pattern = r'\\w{1,}',\n",
    "    ngram_range = (1, 4),\n",
    "    use_idf = 1,\n",
    "    smooth_idf = 1,\n",
    "    sublinear_tf = 1,\n",
    "    stop_words = stopwords_list\n",
    ")\n",
    "\n",
    "# Learn vocabulary from training texts and vectorize training texts\n",
    "vectorizer = vectorizer.fit(list(X_train) + list(X_test))\n",
    "\n",
    "# Transform Bag-of-Words textual data to numeric\n",
    "X_train = vectorizer.transform(X_train)\n",
    "X_test = vectorizer.transform(X_test)"
   ]
  },
  {
   "cell_type": "code",
   "execution_count": 28,
   "id": "e87c2f37",
   "metadata": {},
   "outputs": [
    {
     "data": {
      "text/plain": [
       "array(['0', '0 00', '0 00 1', '0 00 1 00', '0 01', '0 01 degree',\n",
       "       '0 01 degree uniform', '0 01 set', '0 01 set zero', '0 01 x0',\n",
       "       '0 01 x0 01', '0 18', '0 18 0', '0 18 0 global', '0 22',\n",
       "       '0 22 high', '0 22 high tide', '0 30', '0 30 30', '0 30 30 global'],\n",
       "      dtype=object)"
      ]
     },
     "execution_count": 28,
     "metadata": {},
     "output_type": "execute_result"
    }
   ],
   "source": [
    "vectorizer.get_feature_names_out()[:20]"
   ]
  },
  {
   "cell_type": "code",
   "execution_count": 29,
   "id": "d1bc8520",
   "metadata": {},
   "outputs": [],
   "source": [
    "from sklearn.feature_selection import SelectKBest, f_classif\n",
    "from sklearn import preprocessing"
   ]
  },
  {
   "cell_type": "code",
   "execution_count": 30,
   "id": "53c5927f",
   "metadata": {},
   "outputs": [
    {
     "name": "stderr",
     "output_type": "stream",
     "text": [
      "/opt/conda/envs/bigdata/lib/python3.10/site-packages/sklearn/feature_selection/_univariate_selection.py:112: UserWarning: Features [0 0 0 ... 0 0 0] are constant.\n",
      "  warnings.warn(\"Features %s are constant.\" % constant_features_idx, UserWarning)\n",
      "/opt/conda/envs/bigdata/lib/python3.10/site-packages/sklearn/feature_selection/_univariate_selection.py:113: RuntimeWarning: divide by zero encountered in divide\n",
      "  f = msb / msw\n",
      "/opt/conda/envs/bigdata/lib/python3.10/site-packages/sklearn/feature_selection/_univariate_selection.py:113: RuntimeWarning: invalid value encountered in divide\n",
      "  f = msb / msw\n"
     ]
    }
   ],
   "source": [
    "# select top 'k' of the vectorized features, limit on the number of features. We use the top 20K features\n",
    "top_k = 20\n",
    "\n",
    "selector = SelectKBest(f_classif, k = min(top_k, X_train.shape[1]))\n",
    "selector.fit(X_train, y_train)\n",
    "X_train = selector.transform(X_train).astype('float32')\n",
    "X_test = selector.transform(X_test).astype('float32')"
   ]
  },
  {
   "cell_type": "code",
   "execution_count": 31,
   "id": "60c0fa62",
   "metadata": {},
   "outputs": [],
   "source": [
    "# use the LabelEncoder to convert text labels to integers, 0, 1, 2, etc.\n",
    "encoder = preprocessing.LabelEncoder()"
   ]
  },
  {
   "cell_type": "markdown",
   "id": "05b06464",
   "metadata": {},
   "source": [
    "Since we have two different data set (`X_train` and `X_test`), we need to fit it on all of our data otherwise there might be some categories in the test set `X_test` that were not in the train set `X_train` and we will get errors."
   ]
  },
  {
   "cell_type": "code",
   "execution_count": 32,
   "id": "acde326c",
   "metadata": {},
   "outputs": [],
   "source": [
    "encoder.fit(list(y_train) + list(y_test)) \n",
    "y_train = encoder.transform(y_train)\n",
    "y_test = encoder.transform(y_test)"
   ]
  },
  {
   "cell_type": "code",
   "execution_count": 33,
   "id": "6b7f5c32",
   "metadata": {},
   "outputs": [
    {
     "data": {
      "text/plain": [
       "array(['adni', 'agricultural resource management survey',\n",
       "       'agricultural resources management survey',\n",
       "       'alzheimer s disease neuroimaging initiative adni ',\n",
       "       'alzheimers disease neuroimaging initiative',\n",
       "       'baccalaureate and beyond',\n",
       "       'baltimore longitudinal study of aging',\n",
       "       'baltimore longitudinal study of aging blsa ',\n",
       "       'beginning postsecondary students', 'census of agriculture',\n",
       "       'coastal change analysis program', 'common core of data',\n",
       "       'covid 19 death data', 'covid 19 image data collection',\n",
       "       'covid 19 open research dataset',\n",
       "       'early childhood longitudinal study',\n",
       "       'education longitudinal study', 'genome sequence of covid 19',\n",
       "       'ibtracs',\n",
       "       'international best track archive for climate stewardship',\n",
       "       'national assessment of education progress',\n",
       "       'national center for education statistics common core of data',\n",
       "       'national education longitudinal study',\n",
       "       'national science foundation survey of earned doctorates',\n",
       "       'noaa optimum interpolation sea surface temperature',\n",
       "       'noaa tide gauge', 'noaa tide station',\n",
       "       'north american breeding bird survey',\n",
       "       'north american breeding bird survey bbs ',\n",
       "       'optimum interpolation sea surface temperature',\n",
       "       'our world in data',\n",
       "       'program for the international assessment of adult competencies',\n",
       "       'rural urban continuum codes', 'sars cov 2 full genome sequences',\n",
       "       'sars cov 2 genome sequence', 'sars cov 2 genome sequences',\n",
       "       'school survey on crime and safety', 'slosh model',\n",
       "       'survey of doctorate recipients', 'survey of earned doctorates',\n",
       "       'survey of industrial research and development',\n",
       "       'trends in international mathematics and science study',\n",
       "       'world ocean database'], dtype='<U62')"
      ]
     },
     "execution_count": 33,
     "metadata": {},
     "output_type": "execute_result"
    }
   ],
   "source": [
    "encoder.classes_"
   ]
  },
  {
   "cell_type": "code",
   "execution_count": 34,
   "id": "0505a9c7",
   "metadata": {},
   "outputs": [
    {
     "name": "stdout",
     "output_type": "stream",
     "text": [
      "  (19, 13)\t0.1026464\n",
      "  (19, 14)\t0.10976793\n",
      "  (19, 15)\t0.10976793\n",
      "  (19, 16)\t0.10976793\n",
      "  (33, 0)\t0.15661183\n",
      "  (33, 1)\t0.15661183\n",
      "  (33, 2)\t0.15661183\n",
      "  (58, 3)\t0.16028745\n",
      "  (186, 4)\t0.13137828\n",
      "  (186, 5)\t0.13137828\n",
      "  (186, 6)\t0.13137828\n",
      "  (186, 7)\t0.13137828\n",
      "  (186, 17)\t0.13137828\n",
      "  (186, 18)\t0.13137828\n",
      "  (186, 19)\t0.13137828\n",
      "  (261, 12)\t0.09072764\n",
      "  (273, 8)\t0.1919229\n",
      "  (273, 9)\t0.1919229\n",
      "  (273, 10)\t0.1919229\n",
      "  (273, 11)\t0.1919229\n"
     ]
    },
    {
     "data": {
      "text/plain": [
       "(304, 20)"
      ]
     },
     "execution_count": 34,
     "metadata": {},
     "output_type": "execute_result"
    }
   ],
   "source": [
    "print(X_train)\n",
    "X_train.shape"
   ]
  },
  {
   "cell_type": "code",
   "execution_count": 35,
   "id": "172f1518",
   "metadata": {},
   "outputs": [
    {
     "name": "stdout",
     "output_type": "stream",
     "text": [
      "[ 7 39 37  0  0  3  0  0  2  0  1 22  0  0  0 15  9  0  0  5 37  0  0 15\n",
      " 32  6  9  0  0 42  0  3  0 24 37  0  0  4 16 38 39  6  0 32  0 29 26  1\n",
      "  0  0 39 27 15  0  0  0  6 37  8  0  0 37 42 33 38  9 22 16  2  0  0  9\n",
      "  0  0 35 41 37  0  0  0  0  0 34  0  0 38  0 37  1  3 42  0  0 41  7 18\n",
      "  0 26  0  0  0  0  3  0  3  0  0  0 15 15 25  6  0 40 32  7  0  6  0  0\n",
      "  3  0  0  0 32  0  0  0  0  0 37 37 32 41  0 32 22  3  0  3  1 25  0  0\n",
      " 25  0 16  0  0  0  0 40 37  0  0  0  9  0  0  0  1  0  0  0 11 19  0  0\n",
      "  0  0  0 18 16 20 34 37 27  0  0  0  3  0  3  3  3 20 30  0  9 15 37 37\n",
      "  0  0  7  0  0  3  0  0  0 32  3  0  3 39  0  0  0  0 36  0 32  0  6  0\n",
      "  0 36  0  3  3  0  3  3 10  0  0  0  0 22  0 37 41  0 22 39  3  1 37  6\n",
      "  0  0 15  0  3  3  3  1  0  0 32  0  9  3  0  0 42 25 19  0 39 12  0  0\n",
      " 37  0  0  0  0  0  0 13  0 17 15 15 22 37 37  0  0 28  3 18 22  0  0 15\n",
      "  0  0  0  0  0  0  0  0  0  0  0 31 41  0 39  9]\n"
     ]
    },
    {
     "data": {
      "text/plain": [
       "(304,)"
      ]
     },
     "execution_count": 35,
     "metadata": {},
     "output_type": "execute_result"
    }
   ],
   "source": [
    "print(y_train)\n",
    "y_train.shape"
   ]
  },
  {
   "cell_type": "markdown",
   "id": "e37a9b39",
   "metadata": {},
   "source": [
    "## Random Forest Classifier"
   ]
  },
  {
   "cell_type": "code",
   "execution_count": 36,
   "id": "dbc6b41c",
   "metadata": {},
   "outputs": [],
   "source": [
    "from sklearn.ensemble import RandomForestClassifier"
   ]
  },
  {
   "cell_type": "code",
   "execution_count": 37,
   "id": "c82a0793",
   "metadata": {},
   "outputs": [],
   "source": [
    "# create a tokenization a modelling pipeline\n",
    "RandomForestClassifier_model = RandomForestClassifier(\n",
    "    n_estimators = 100,\n",
    "    random_state = 123\n",
    ")"
   ]
  },
  {
   "cell_type": "code",
   "execution_count": 38,
   "id": "a740b23a",
   "metadata": {},
   "outputs": [
    {
     "data": {
      "text/html": [
       "<style>#sk-container-id-1 {color: black;background-color: white;}#sk-container-id-1 pre{padding: 0;}#sk-container-id-1 div.sk-toggleable {background-color: white;}#sk-container-id-1 label.sk-toggleable__label {cursor: pointer;display: block;width: 100%;margin-bottom: 0;padding: 0.3em;box-sizing: border-box;text-align: center;}#sk-container-id-1 label.sk-toggleable__label-arrow:before {content: \"▸\";float: left;margin-right: 0.25em;color: #696969;}#sk-container-id-1 label.sk-toggleable__label-arrow:hover:before {color: black;}#sk-container-id-1 div.sk-estimator:hover label.sk-toggleable__label-arrow:before {color: black;}#sk-container-id-1 div.sk-toggleable__content {max-height: 0;max-width: 0;overflow: hidden;text-align: left;background-color: #f0f8ff;}#sk-container-id-1 div.sk-toggleable__content pre {margin: 0.2em;color: black;border-radius: 0.25em;background-color: #f0f8ff;}#sk-container-id-1 input.sk-toggleable__control:checked~div.sk-toggleable__content {max-height: 200px;max-width: 100%;overflow: auto;}#sk-container-id-1 input.sk-toggleable__control:checked~label.sk-toggleable__label-arrow:before {content: \"▾\";}#sk-container-id-1 div.sk-estimator input.sk-toggleable__control:checked~label.sk-toggleable__label {background-color: #d4ebff;}#sk-container-id-1 div.sk-label input.sk-toggleable__control:checked~label.sk-toggleable__label {background-color: #d4ebff;}#sk-container-id-1 input.sk-hidden--visually {border: 0;clip: rect(1px 1px 1px 1px);clip: rect(1px, 1px, 1px, 1px);height: 1px;margin: -1px;overflow: hidden;padding: 0;position: absolute;width: 1px;}#sk-container-id-1 div.sk-estimator {font-family: monospace;background-color: #f0f8ff;border: 1px dotted black;border-radius: 0.25em;box-sizing: border-box;margin-bottom: 0.5em;}#sk-container-id-1 div.sk-estimator:hover {background-color: #d4ebff;}#sk-container-id-1 div.sk-parallel-item::after {content: \"\";width: 100%;border-bottom: 1px solid gray;flex-grow: 1;}#sk-container-id-1 div.sk-label:hover label.sk-toggleable__label {background-color: #d4ebff;}#sk-container-id-1 div.sk-serial::before {content: \"\";position: absolute;border-left: 1px solid gray;box-sizing: border-box;top: 0;bottom: 0;left: 50%;z-index: 0;}#sk-container-id-1 div.sk-serial {display: flex;flex-direction: column;align-items: center;background-color: white;padding-right: 0.2em;padding-left: 0.2em;position: relative;}#sk-container-id-1 div.sk-item {position: relative;z-index: 1;}#sk-container-id-1 div.sk-parallel {display: flex;align-items: stretch;justify-content: center;background-color: white;position: relative;}#sk-container-id-1 div.sk-item::before, #sk-container-id-1 div.sk-parallel-item::before {content: \"\";position: absolute;border-left: 1px solid gray;box-sizing: border-box;top: 0;bottom: 0;left: 50%;z-index: -1;}#sk-container-id-1 div.sk-parallel-item {display: flex;flex-direction: column;z-index: 1;position: relative;background-color: white;}#sk-container-id-1 div.sk-parallel-item:first-child::after {align-self: flex-end;width: 50%;}#sk-container-id-1 div.sk-parallel-item:last-child::after {align-self: flex-start;width: 50%;}#sk-container-id-1 div.sk-parallel-item:only-child::after {width: 0;}#sk-container-id-1 div.sk-dashed-wrapped {border: 1px dashed gray;margin: 0 0.4em 0.5em 0.4em;box-sizing: border-box;padding-bottom: 0.4em;background-color: white;}#sk-container-id-1 div.sk-label label {font-family: monospace;font-weight: bold;display: inline-block;line-height: 1.2em;}#sk-container-id-1 div.sk-label-container {text-align: center;}#sk-container-id-1 div.sk-container {/* jupyter's `normalize.less` sets `[hidden] { display: none; }` but bootstrap.min.css set `[hidden] { display: none !important; }` so we also need the `!important` here to be able to override the default hidden behavior on the sphinx rendered scikit-learn.org. See: https://github.com/scikit-learn/scikit-learn/issues/21755 */display: inline-block !important;position: relative;}#sk-container-id-1 div.sk-text-repr-fallback {display: none;}</style><div id=\"sk-container-id-1\" class=\"sk-top-container\"><div class=\"sk-text-repr-fallback\"><pre>RandomForestClassifier(random_state=123)</pre><b>In a Jupyter environment, please rerun this cell to show the HTML representation or trust the notebook. <br />On GitHub, the HTML representation is unable to render, please try loading this page with nbviewer.org.</b></div><div class=\"sk-container\" hidden><div class=\"sk-item\"><div class=\"sk-estimator sk-toggleable\"><input class=\"sk-toggleable__control sk-hidden--visually\" id=\"sk-estimator-id-1\" type=\"checkbox\" checked><label for=\"sk-estimator-id-1\" class=\"sk-toggleable__label sk-toggleable__label-arrow\">RandomForestClassifier</label><div class=\"sk-toggleable__content\"><pre>RandomForestClassifier(random_state=123)</pre></div></div></div></div></div>"
      ],
      "text/plain": [
       "RandomForestClassifier(random_state=123)"
      ]
     },
     "execution_count": 38,
     "metadata": {},
     "output_type": "execute_result"
    }
   ],
   "source": [
    "# fit the pipeline to the training data\n",
    "RandomForestClassifier_model.fit(X_train, y_train)"
   ]
  },
  {
   "cell_type": "code",
   "execution_count": 39,
   "id": "1b3d637f",
   "metadata": {},
   "outputs": [],
   "source": [
    "RandomForestClassifier_yhat_train = RandomForestClassifier_model.predict(X_train)\n",
    "RandomForestClassifier_yhat_test = RandomForestClassifier_model.predict(X_test)"
   ]
  },
  {
   "cell_type": "code",
   "execution_count": 40,
   "id": "844ba83c",
   "metadata": {},
   "outputs": [
    {
     "name": "stdout",
     "output_type": "stream",
     "text": [
      "Train accuracy: 50.6578947368421\n",
      "Test accuracy: 48.68421052631579\n"
     ]
    }
   ],
   "source": [
    "# train accuracy \n",
    "RandomForestClassifier_train_accuracy = accuracy_score(y_train, RandomForestClassifier_yhat_train) * 100\n",
    "print('Train accuracy: {0}'.format(RandomForestClassifier_train_accuracy))\n",
    "\n",
    "# test accuracy \n",
    "RandomForestClassifier_test_accuracy = accuracy_score(y_test, RandomForestClassifier_yhat_test) * 100\n",
    "print('Test accuracy: {0}'.format(RandomForestClassifier_test_accuracy))"
   ]
  },
  {
   "cell_type": "code",
   "execution_count": 41,
   "id": "80cc92ff",
   "metadata": {},
   "outputs": [],
   "source": [
    "pickle.dump(RandomForestClassifier_model, open('RandomForestClassifier_model.sav', 'wb'))"
   ]
  },
  {
   "cell_type": "code",
   "execution_count": 42,
   "id": "c7c7ca4b",
   "metadata": {},
   "outputs": [
    {
     "data": {
      "text/plain": [
       "0.4869398907103825"
      ]
     },
     "execution_count": 42,
     "metadata": {},
     "output_type": "execute_result"
    }
   ],
   "source": [
    "RandomForestClassifier_CV = cross_val_score(\n",
    "    RandomForestClassifier_model, \n",
    "    X_train, y_train, \n",
    "    cv = k_fold, \n",
    "    scoring = 'accuracy', \n",
    "    n_jobs = -1\n",
    ").mean()\n",
    "\n",
    "RandomForestClassifier_CV"
   ]
  },
  {
   "cell_type": "code",
   "execution_count": 43,
   "id": "3b5d0246",
   "metadata": {},
   "outputs": [
    {
     "name": "stdout",
     "output_type": "stream",
     "text": [
      "Model: RandomForestClassifier \n",
      "               precision    recall  f1-score   support\n",
      "\n",
      "           0       0.49      1.00      0.66        37\n",
      "           1       0.00      0.00      0.00         3\n",
      "           3       0.00      0.00      0.00         4\n",
      "           6       0.00      0.00      0.00         3\n",
      "           7       0.00      0.00      0.00         1\n",
      "           9       0.00      0.00      0.00         1\n",
      "          10       0.00      0.00      0.00         1\n",
      "          14       0.00      0.00      0.00         2\n",
      "          15       0.00      0.00      0.00         5\n",
      "          16       0.00      0.00      0.00         3\n",
      "          20       0.00      0.00      0.00         2\n",
      "          21       0.00      0.00      0.00         1\n",
      "          23       0.00      0.00      0.00         1\n",
      "          24       0.00      0.00      0.00         0\n",
      "          25       0.00      0.00      0.00         1\n",
      "          29       0.00      0.00      0.00         1\n",
      "          32       0.00      0.00      0.00         1\n",
      "          36       0.00      0.00      0.00         1\n",
      "          37       0.00      0.00      0.00         3\n",
      "          39       0.00      0.00      0.00         3\n",
      "          41       0.00      0.00      0.00         2\n",
      "\n",
      "    accuracy                           0.49        76\n",
      "   macro avg       0.02      0.05      0.03        76\n",
      "weighted avg       0.24      0.49      0.32        76\n",
      "\n"
     ]
    },
    {
     "name": "stderr",
     "output_type": "stream",
     "text": [
      "/opt/conda/envs/bigdata/lib/python3.10/site-packages/sklearn/metrics/_classification.py:1344: UndefinedMetricWarning: Precision and F-score are ill-defined and being set to 0.0 in labels with no predicted samples. Use `zero_division` parameter to control this behavior.\n",
      "  _warn_prf(average, modifier, msg_start, len(result))\n",
      "/opt/conda/envs/bigdata/lib/python3.10/site-packages/sklearn/metrics/_classification.py:1344: UndefinedMetricWarning: Recall and F-score are ill-defined and being set to 0.0 in labels with no true samples. Use `zero_division` parameter to control this behavior.\n",
      "  _warn_prf(average, modifier, msg_start, len(result))\n",
      "/opt/conda/envs/bigdata/lib/python3.10/site-packages/sklearn/metrics/_classification.py:1344: UndefinedMetricWarning: Precision and F-score are ill-defined and being set to 0.0 in labels with no predicted samples. Use `zero_division` parameter to control this behavior.\n",
      "  _warn_prf(average, modifier, msg_start, len(result))\n",
      "/opt/conda/envs/bigdata/lib/python3.10/site-packages/sklearn/metrics/_classification.py:1344: UndefinedMetricWarning: Recall and F-score are ill-defined and being set to 0.0 in labels with no true samples. Use `zero_division` parameter to control this behavior.\n",
      "  _warn_prf(average, modifier, msg_start, len(result))\n",
      "/opt/conda/envs/bigdata/lib/python3.10/site-packages/sklearn/metrics/_classification.py:1344: UndefinedMetricWarning: Precision and F-score are ill-defined and being set to 0.0 in labels with no predicted samples. Use `zero_division` parameter to control this behavior.\n",
      "  _warn_prf(average, modifier, msg_start, len(result))\n",
      "/opt/conda/envs/bigdata/lib/python3.10/site-packages/sklearn/metrics/_classification.py:1344: UndefinedMetricWarning: Recall and F-score are ill-defined and being set to 0.0 in labels with no true samples. Use `zero_division` parameter to control this behavior.\n",
      "  _warn_prf(average, modifier, msg_start, len(result))\n"
     ]
    }
   ],
   "source": [
    "print('Model: RandomForestClassifier', '\\n', classification_report(y_test, RandomForestClassifier_yhat_test))"
   ]
  },
  {
   "cell_type": "code",
   "execution_count": 44,
   "id": "314bdbe1",
   "metadata": {},
   "outputs": [
    {
     "name": "stderr",
     "output_type": "stream",
     "text": [
      "/opt/conda/envs/bigdata/lib/python3.10/site-packages/sklearn/metrics/_classification.py:1344: UndefinedMetricWarning: Precision is ill-defined and being set to 0.0 in labels with no predicted samples. Use `zero_division` parameter to control this behavior.\n",
      "  _warn_prf(average, modifier, msg_start, len(result))\n",
      "/opt/conda/envs/bigdata/lib/python3.10/site-packages/sklearn/metrics/_classification.py:1344: UndefinedMetricWarning: Recall is ill-defined and being set to 0.0 in labels with no true samples. Use `zero_division` parameter to control this behavior.\n",
      "  _warn_prf(average, modifier, msg_start, len(result))\n"
     ]
    }
   ],
   "source": [
    "summary.loc[0] = [\n",
    "    'Random Forest Classifier',\n",
    "    round(accuracy_score(y_test, RandomForestClassifier_yhat_test), 2),\n",
    "    round(RandomForestClassifier_CV, 2),\n",
    "    round(precision_score(y_test, RandomForestClassifier_yhat_test, average = 'macro'), 2), \n",
    "    round(recall_score(y_test, RandomForestClassifier_yhat_test, average = 'macro'), 2), \n",
    "    round(f1_score(y_test, RandomForestClassifier_yhat_test, average = 'macro'), 2)\n",
    "]"
   ]
  },
  {
   "cell_type": "code",
   "execution_count": 45,
   "id": "fbaa16ab",
   "metadata": {},
   "outputs": [
    {
     "data": {
      "text/html": [
       "<div>\n",
       "<style scoped>\n",
       "    .dataframe tbody tr th:only-of-type {\n",
       "        vertical-align: middle;\n",
       "    }\n",
       "\n",
       "    .dataframe tbody tr th {\n",
       "        vertical-align: top;\n",
       "    }\n",
       "\n",
       "    .dataframe thead th {\n",
       "        text-align: right;\n",
       "    }\n",
       "</style>\n",
       "<table border=\"1\" class=\"dataframe\">\n",
       "  <thead>\n",
       "    <tr style=\"text-align: right;\">\n",
       "      <th></th>\n",
       "      <th>Model</th>\n",
       "      <th>Accuracy</th>\n",
       "      <th>CV</th>\n",
       "      <th>Precision</th>\n",
       "      <th>Recall</th>\n",
       "      <th>F1</th>\n",
       "    </tr>\n",
       "  </thead>\n",
       "  <tbody>\n",
       "    <tr>\n",
       "      <th>0</th>\n",
       "      <td>Random Forest Classifier</td>\n",
       "      <td>0.49</td>\n",
       "      <td>0.49</td>\n",
       "      <td>0.02</td>\n",
       "      <td>0.05</td>\n",
       "      <td>0.03</td>\n",
       "    </tr>\n",
       "  </tbody>\n",
       "</table>\n",
       "</div>"
      ],
      "text/plain": [
       "                      Model  Accuracy    CV  Precision  Recall    F1\n",
       "0  Random Forest Classifier      0.49  0.49       0.02    0.05  0.03"
      ]
     },
     "execution_count": 45,
     "metadata": {},
     "output_type": "execute_result"
    }
   ],
   "source": [
    "summary"
   ]
  },
  {
   "cell_type": "markdown",
   "id": "84f969fc",
   "metadata": {},
   "source": [
    "## Support Vector Machine\n",
    "\n",
    "Linear Support Vector Machine"
   ]
  },
  {
   "cell_type": "code",
   "execution_count": 46,
   "id": "d7dd2aa5",
   "metadata": {},
   "outputs": [],
   "source": [
    "from sklearn.linear_model import SGDClassifier"
   ]
  },
  {
   "cell_type": "code",
   "execution_count": 47,
   "id": "de046f38",
   "metadata": {},
   "outputs": [
    {
     "name": "stderr",
     "output_type": "stream",
     "text": [
      "/opt/conda/envs/bigdata/lib/python3.10/site-packages/sklearn/linear_model/_stochastic_gradient.py:702: ConvergenceWarning: Maximum number of iteration reached before convergence. Consider increasing max_iter to improve the fit.\n",
      "  warnings.warn(\n"
     ]
    },
    {
     "data": {
      "text/html": [
       "<style>#sk-container-id-2 {color: black;background-color: white;}#sk-container-id-2 pre{padding: 0;}#sk-container-id-2 div.sk-toggleable {background-color: white;}#sk-container-id-2 label.sk-toggleable__label {cursor: pointer;display: block;width: 100%;margin-bottom: 0;padding: 0.3em;box-sizing: border-box;text-align: center;}#sk-container-id-2 label.sk-toggleable__label-arrow:before {content: \"▸\";float: left;margin-right: 0.25em;color: #696969;}#sk-container-id-2 label.sk-toggleable__label-arrow:hover:before {color: black;}#sk-container-id-2 div.sk-estimator:hover label.sk-toggleable__label-arrow:before {color: black;}#sk-container-id-2 div.sk-toggleable__content {max-height: 0;max-width: 0;overflow: hidden;text-align: left;background-color: #f0f8ff;}#sk-container-id-2 div.sk-toggleable__content pre {margin: 0.2em;color: black;border-radius: 0.25em;background-color: #f0f8ff;}#sk-container-id-2 input.sk-toggleable__control:checked~div.sk-toggleable__content {max-height: 200px;max-width: 100%;overflow: auto;}#sk-container-id-2 input.sk-toggleable__control:checked~label.sk-toggleable__label-arrow:before {content: \"▾\";}#sk-container-id-2 div.sk-estimator input.sk-toggleable__control:checked~label.sk-toggleable__label {background-color: #d4ebff;}#sk-container-id-2 div.sk-label input.sk-toggleable__control:checked~label.sk-toggleable__label {background-color: #d4ebff;}#sk-container-id-2 input.sk-hidden--visually {border: 0;clip: rect(1px 1px 1px 1px);clip: rect(1px, 1px, 1px, 1px);height: 1px;margin: -1px;overflow: hidden;padding: 0;position: absolute;width: 1px;}#sk-container-id-2 div.sk-estimator {font-family: monospace;background-color: #f0f8ff;border: 1px dotted black;border-radius: 0.25em;box-sizing: border-box;margin-bottom: 0.5em;}#sk-container-id-2 div.sk-estimator:hover {background-color: #d4ebff;}#sk-container-id-2 div.sk-parallel-item::after {content: \"\";width: 100%;border-bottom: 1px solid gray;flex-grow: 1;}#sk-container-id-2 div.sk-label:hover label.sk-toggleable__label {background-color: #d4ebff;}#sk-container-id-2 div.sk-serial::before {content: \"\";position: absolute;border-left: 1px solid gray;box-sizing: border-box;top: 0;bottom: 0;left: 50%;z-index: 0;}#sk-container-id-2 div.sk-serial {display: flex;flex-direction: column;align-items: center;background-color: white;padding-right: 0.2em;padding-left: 0.2em;position: relative;}#sk-container-id-2 div.sk-item {position: relative;z-index: 1;}#sk-container-id-2 div.sk-parallel {display: flex;align-items: stretch;justify-content: center;background-color: white;position: relative;}#sk-container-id-2 div.sk-item::before, #sk-container-id-2 div.sk-parallel-item::before {content: \"\";position: absolute;border-left: 1px solid gray;box-sizing: border-box;top: 0;bottom: 0;left: 50%;z-index: -1;}#sk-container-id-2 div.sk-parallel-item {display: flex;flex-direction: column;z-index: 1;position: relative;background-color: white;}#sk-container-id-2 div.sk-parallel-item:first-child::after {align-self: flex-end;width: 50%;}#sk-container-id-2 div.sk-parallel-item:last-child::after {align-self: flex-start;width: 50%;}#sk-container-id-2 div.sk-parallel-item:only-child::after {width: 0;}#sk-container-id-2 div.sk-dashed-wrapped {border: 1px dashed gray;margin: 0 0.4em 0.5em 0.4em;box-sizing: border-box;padding-bottom: 0.4em;background-color: white;}#sk-container-id-2 div.sk-label label {font-family: monospace;font-weight: bold;display: inline-block;line-height: 1.2em;}#sk-container-id-2 div.sk-label-container {text-align: center;}#sk-container-id-2 div.sk-container {/* jupyter's `normalize.less` sets `[hidden] { display: none; }` but bootstrap.min.css set `[hidden] { display: none !important; }` so we also need the `!important` here to be able to override the default hidden behavior on the sphinx rendered scikit-learn.org. See: https://github.com/scikit-learn/scikit-learn/issues/21755 */display: inline-block !important;position: relative;}#sk-container-id-2 div.sk-text-repr-fallback {display: none;}</style><div id=\"sk-container-id-2\" class=\"sk-top-container\"><div class=\"sk-text-repr-fallback\"><pre>SGDClassifier(alpha=0.001, max_iter=5, random_state=123)</pre><b>In a Jupyter environment, please rerun this cell to show the HTML representation or trust the notebook. <br />On GitHub, the HTML representation is unable to render, please try loading this page with nbviewer.org.</b></div><div class=\"sk-container\" hidden><div class=\"sk-item\"><div class=\"sk-estimator sk-toggleable\"><input class=\"sk-toggleable__control sk-hidden--visually\" id=\"sk-estimator-id-2\" type=\"checkbox\" checked><label for=\"sk-estimator-id-2\" class=\"sk-toggleable__label sk-toggleable__label-arrow\">SGDClassifier</label><div class=\"sk-toggleable__content\"><pre>SGDClassifier(alpha=0.001, max_iter=5, random_state=123)</pre></div></div></div></div></div>"
      ],
      "text/plain": [
       "SGDClassifier(alpha=0.001, max_iter=5, random_state=123)"
      ]
     },
     "execution_count": 47,
     "metadata": {},
     "output_type": "execute_result"
    }
   ],
   "source": [
    "# create a tokenization a modelling pipeline\n",
    "SGDClassifier_model = SGDClassifier(\n",
    "    loss = 'hinge',\n",
    "    penalty = 'l2',\n",
    "    alpha = 1e-3,\n",
    "    random_state = 123,\n",
    "    max_iter = 5\n",
    ")\n",
    "\n",
    "# fit the pipeline to the training data\n",
    "SGDClassifier_model.fit(X_train, y_train)"
   ]
  },
  {
   "cell_type": "code",
   "execution_count": 48,
   "id": "60c54583",
   "metadata": {},
   "outputs": [],
   "source": [
    "SGDClassifier_yhat_train = SGDClassifier_model.predict(X_train)\n",
    "SGDClassifier_yhat_test = SGDClassifier_model.predict(X_test)"
   ]
  },
  {
   "cell_type": "code",
   "execution_count": 49,
   "id": "aa94ff22",
   "metadata": {},
   "outputs": [
    {
     "name": "stdout",
     "output_type": "stream",
     "text": [
      "Train accuracy: 49.67105263157895\n",
      "Test accuracy: 48.68421052631579\n"
     ]
    }
   ],
   "source": [
    "# train accuracy \n",
    "SGDClassifier_train_accuracy = accuracy_score(y_train, SGDClassifier_yhat_train) * 100\n",
    "print('Train accuracy: {0}'.format(SGDClassifier_train_accuracy))\n",
    "\n",
    "# test accuracy \n",
    "SGDClassifier_test_accuracy = accuracy_score(y_test, SGDClassifier_yhat_test) * 100\n",
    "print('Test accuracy: {0}'.format(SGDClassifier_test_accuracy))"
   ]
  },
  {
   "cell_type": "code",
   "execution_count": 50,
   "id": "7ce46291",
   "metadata": {},
   "outputs": [],
   "source": [
    "pickle.dump(SGDClassifier_model, open('SGDClassifier_model.sav', 'wb'))"
   ]
  },
  {
   "cell_type": "code",
   "execution_count": 51,
   "id": "0f5f0073",
   "metadata": {},
   "outputs": [
    {
     "name": "stderr",
     "output_type": "stream",
     "text": [
      "/opt/conda/envs/bigdata/lib/python3.10/site-packages/sklearn/linear_model/_stochastic_gradient.py:702: ConvergenceWarning: Maximum number of iteration reached before convergence. Consider increasing max_iter to improve the fit.\n",
      "  warnings.warn(\n",
      "/opt/conda/envs/bigdata/lib/python3.10/site-packages/sklearn/linear_model/_stochastic_gradient.py:702: ConvergenceWarning: Maximum number of iteration reached before convergence. Consider increasing max_iter to improve the fit.\n",
      "  warnings.warn(\n",
      "/opt/conda/envs/bigdata/lib/python3.10/site-packages/sklearn/linear_model/_stochastic_gradient.py:702: ConvergenceWarning: Maximum number of iteration reached before convergence. Consider increasing max_iter to improve the fit.\n",
      "  warnings.warn(\n",
      "/opt/conda/envs/bigdata/lib/python3.10/site-packages/sklearn/linear_model/_stochastic_gradient.py:702: ConvergenceWarning: Maximum number of iteration reached before convergence. Consider increasing max_iter to improve the fit.\n",
      "  warnings.warn(\n",
      "/opt/conda/envs/bigdata/lib/python3.10/site-packages/sklearn/linear_model/_stochastic_gradient.py:702: ConvergenceWarning: Maximum number of iteration reached before convergence. Consider increasing max_iter to improve the fit.\n",
      "  warnings.warn(\n"
     ]
    },
    {
     "data": {
      "text/plain": [
       "0.4869398907103825"
      ]
     },
     "execution_count": 51,
     "metadata": {},
     "output_type": "execute_result"
    }
   ],
   "source": [
    "SGDClassifier_CV = cross_val_score(\n",
    "    SGDClassifier_model, \n",
    "    X_train, y_train,\n",
    "    cv = k_fold,\n",
    "    scoring = 'accuracy',\n",
    "    n_jobs=-1\n",
    ").mean()\n",
    "\n",
    "SGDClassifier_CV"
   ]
  },
  {
   "cell_type": "code",
   "execution_count": 52,
   "id": "afbad8f6",
   "metadata": {},
   "outputs": [
    {
     "name": "stdout",
     "output_type": "stream",
     "text": [
      "Model: Support Vector Machine \n",
      "               precision    recall  f1-score   support\n",
      "\n",
      "           0       0.49      1.00      0.66        37\n",
      "           1       0.00      0.00      0.00         3\n",
      "           3       0.00      0.00      0.00         4\n",
      "           6       0.00      0.00      0.00         3\n",
      "           7       0.00      0.00      0.00         1\n",
      "           9       0.00      0.00      0.00         1\n",
      "          10       0.00      0.00      0.00         1\n",
      "          14       0.00      0.00      0.00         2\n",
      "          15       0.00      0.00      0.00         5\n",
      "          16       0.00      0.00      0.00         3\n",
      "          20       0.00      0.00      0.00         2\n",
      "          21       0.00      0.00      0.00         1\n",
      "          23       0.00      0.00      0.00         1\n",
      "          24       0.00      0.00      0.00         0\n",
      "          25       0.00      0.00      0.00         1\n",
      "          29       0.00      0.00      0.00         1\n",
      "          32       0.00      0.00      0.00         1\n",
      "          36       0.00      0.00      0.00         1\n",
      "          37       0.00      0.00      0.00         3\n",
      "          39       0.00      0.00      0.00         3\n",
      "          41       0.00      0.00      0.00         2\n",
      "\n",
      "    accuracy                           0.49        76\n",
      "   macro avg       0.02      0.05      0.03        76\n",
      "weighted avg       0.24      0.49      0.32        76\n",
      "\n"
     ]
    },
    {
     "name": "stderr",
     "output_type": "stream",
     "text": [
      "/opt/conda/envs/bigdata/lib/python3.10/site-packages/sklearn/metrics/_classification.py:1344: UndefinedMetricWarning: Precision and F-score are ill-defined and being set to 0.0 in labels with no predicted samples. Use `zero_division` parameter to control this behavior.\n",
      "  _warn_prf(average, modifier, msg_start, len(result))\n",
      "/opt/conda/envs/bigdata/lib/python3.10/site-packages/sklearn/metrics/_classification.py:1344: UndefinedMetricWarning: Recall and F-score are ill-defined and being set to 0.0 in labels with no true samples. Use `zero_division` parameter to control this behavior.\n",
      "  _warn_prf(average, modifier, msg_start, len(result))\n",
      "/opt/conda/envs/bigdata/lib/python3.10/site-packages/sklearn/metrics/_classification.py:1344: UndefinedMetricWarning: Precision and F-score are ill-defined and being set to 0.0 in labels with no predicted samples. Use `zero_division` parameter to control this behavior.\n",
      "  _warn_prf(average, modifier, msg_start, len(result))\n",
      "/opt/conda/envs/bigdata/lib/python3.10/site-packages/sklearn/metrics/_classification.py:1344: UndefinedMetricWarning: Recall and F-score are ill-defined and being set to 0.0 in labels with no true samples. Use `zero_division` parameter to control this behavior.\n",
      "  _warn_prf(average, modifier, msg_start, len(result))\n",
      "/opt/conda/envs/bigdata/lib/python3.10/site-packages/sklearn/metrics/_classification.py:1344: UndefinedMetricWarning: Precision and F-score are ill-defined and being set to 0.0 in labels with no predicted samples. Use `zero_division` parameter to control this behavior.\n",
      "  _warn_prf(average, modifier, msg_start, len(result))\n",
      "/opt/conda/envs/bigdata/lib/python3.10/site-packages/sklearn/metrics/_classification.py:1344: UndefinedMetricWarning: Recall and F-score are ill-defined and being set to 0.0 in labels with no true samples. Use `zero_division` parameter to control this behavior.\n",
      "  _warn_prf(average, modifier, msg_start, len(result))\n"
     ]
    }
   ],
   "source": [
    "print('Model: Support Vector Machine', '\\n', classification_report(y_test, SGDClassifier_yhat_test))"
   ]
  },
  {
   "cell_type": "code",
   "execution_count": 53,
   "id": "6daa2b67",
   "metadata": {},
   "outputs": [
    {
     "name": "stderr",
     "output_type": "stream",
     "text": [
      "/opt/conda/envs/bigdata/lib/python3.10/site-packages/sklearn/metrics/_classification.py:1344: UndefinedMetricWarning: Precision is ill-defined and being set to 0.0 in labels with no predicted samples. Use `zero_division` parameter to control this behavior.\n",
      "  _warn_prf(average, modifier, msg_start, len(result))\n",
      "/opt/conda/envs/bigdata/lib/python3.10/site-packages/sklearn/metrics/_classification.py:1344: UndefinedMetricWarning: Recall is ill-defined and being set to 0.0 in labels with no true samples. Use `zero_division` parameter to control this behavior.\n",
      "  _warn_prf(average, modifier, msg_start, len(result))\n"
     ]
    }
   ],
   "source": [
    "summary.loc[1] = [\n",
    "    'Support Vector Machine',\n",
    "    round(accuracy_score(y_test, SGDClassifier_yhat_test), 2),\n",
    "    round(SGDClassifier_CV, 2),\n",
    "    round(precision_score(y_test, SGDClassifier_yhat_test, average = 'macro'), 2), \n",
    "    round(recall_score(y_test, SGDClassifier_yhat_test, average = 'macro'), 2), \n",
    "    round(f1_score(y_test, SGDClassifier_yhat_test, average = 'macro'), 2)\n",
    "]"
   ]
  },
  {
   "cell_type": "code",
   "execution_count": 54,
   "id": "9f72936c",
   "metadata": {},
   "outputs": [
    {
     "data": {
      "text/html": [
       "<div>\n",
       "<style scoped>\n",
       "    .dataframe tbody tr th:only-of-type {\n",
       "        vertical-align: middle;\n",
       "    }\n",
       "\n",
       "    .dataframe tbody tr th {\n",
       "        vertical-align: top;\n",
       "    }\n",
       "\n",
       "    .dataframe thead th {\n",
       "        text-align: right;\n",
       "    }\n",
       "</style>\n",
       "<table border=\"1\" class=\"dataframe\">\n",
       "  <thead>\n",
       "    <tr style=\"text-align: right;\">\n",
       "      <th></th>\n",
       "      <th>Model</th>\n",
       "      <th>Accuracy</th>\n",
       "      <th>CV</th>\n",
       "      <th>Precision</th>\n",
       "      <th>Recall</th>\n",
       "      <th>F1</th>\n",
       "    </tr>\n",
       "  </thead>\n",
       "  <tbody>\n",
       "    <tr>\n",
       "      <th>0</th>\n",
       "      <td>Random Forest Classifier</td>\n",
       "      <td>0.49</td>\n",
       "      <td>0.49</td>\n",
       "      <td>0.02</td>\n",
       "      <td>0.05</td>\n",
       "      <td>0.03</td>\n",
       "    </tr>\n",
       "    <tr>\n",
       "      <th>1</th>\n",
       "      <td>Support Vector Machine</td>\n",
       "      <td>0.49</td>\n",
       "      <td>0.49</td>\n",
       "      <td>0.02</td>\n",
       "      <td>0.05</td>\n",
       "      <td>0.03</td>\n",
       "    </tr>\n",
       "  </tbody>\n",
       "</table>\n",
       "</div>"
      ],
      "text/plain": [
       "                      Model  Accuracy    CV  Precision  Recall    F1\n",
       "0  Random Forest Classifier      0.49  0.49       0.02    0.05  0.03\n",
       "1    Support Vector Machine      0.49  0.49       0.02    0.05  0.03"
      ]
     },
     "execution_count": 54,
     "metadata": {},
     "output_type": "execute_result"
    }
   ],
   "source": [
    "summary"
   ]
  },
  {
   "cell_type": "markdown",
   "id": "c9708f40",
   "metadata": {},
   "source": [
    "## Naive Bayes\n",
    "\n",
    "MultinomialNB"
   ]
  },
  {
   "cell_type": "code",
   "execution_count": 55,
   "id": "63308db1",
   "metadata": {},
   "outputs": [],
   "source": [
    "from sklearn.naive_bayes import MultinomialNB"
   ]
  },
  {
   "cell_type": "code",
   "execution_count": 56,
   "id": "f29cbf0d",
   "metadata": {},
   "outputs": [
    {
     "data": {
      "text/html": [
       "<style>#sk-container-id-3 {color: black;background-color: white;}#sk-container-id-3 pre{padding: 0;}#sk-container-id-3 div.sk-toggleable {background-color: white;}#sk-container-id-3 label.sk-toggleable__label {cursor: pointer;display: block;width: 100%;margin-bottom: 0;padding: 0.3em;box-sizing: border-box;text-align: center;}#sk-container-id-3 label.sk-toggleable__label-arrow:before {content: \"▸\";float: left;margin-right: 0.25em;color: #696969;}#sk-container-id-3 label.sk-toggleable__label-arrow:hover:before {color: black;}#sk-container-id-3 div.sk-estimator:hover label.sk-toggleable__label-arrow:before {color: black;}#sk-container-id-3 div.sk-toggleable__content {max-height: 0;max-width: 0;overflow: hidden;text-align: left;background-color: #f0f8ff;}#sk-container-id-3 div.sk-toggleable__content pre {margin: 0.2em;color: black;border-radius: 0.25em;background-color: #f0f8ff;}#sk-container-id-3 input.sk-toggleable__control:checked~div.sk-toggleable__content {max-height: 200px;max-width: 100%;overflow: auto;}#sk-container-id-3 input.sk-toggleable__control:checked~label.sk-toggleable__label-arrow:before {content: \"▾\";}#sk-container-id-3 div.sk-estimator input.sk-toggleable__control:checked~label.sk-toggleable__label {background-color: #d4ebff;}#sk-container-id-3 div.sk-label input.sk-toggleable__control:checked~label.sk-toggleable__label {background-color: #d4ebff;}#sk-container-id-3 input.sk-hidden--visually {border: 0;clip: rect(1px 1px 1px 1px);clip: rect(1px, 1px, 1px, 1px);height: 1px;margin: -1px;overflow: hidden;padding: 0;position: absolute;width: 1px;}#sk-container-id-3 div.sk-estimator {font-family: monospace;background-color: #f0f8ff;border: 1px dotted black;border-radius: 0.25em;box-sizing: border-box;margin-bottom: 0.5em;}#sk-container-id-3 div.sk-estimator:hover {background-color: #d4ebff;}#sk-container-id-3 div.sk-parallel-item::after {content: \"\";width: 100%;border-bottom: 1px solid gray;flex-grow: 1;}#sk-container-id-3 div.sk-label:hover label.sk-toggleable__label {background-color: #d4ebff;}#sk-container-id-3 div.sk-serial::before {content: \"\";position: absolute;border-left: 1px solid gray;box-sizing: border-box;top: 0;bottom: 0;left: 50%;z-index: 0;}#sk-container-id-3 div.sk-serial {display: flex;flex-direction: column;align-items: center;background-color: white;padding-right: 0.2em;padding-left: 0.2em;position: relative;}#sk-container-id-3 div.sk-item {position: relative;z-index: 1;}#sk-container-id-3 div.sk-parallel {display: flex;align-items: stretch;justify-content: center;background-color: white;position: relative;}#sk-container-id-3 div.sk-item::before, #sk-container-id-3 div.sk-parallel-item::before {content: \"\";position: absolute;border-left: 1px solid gray;box-sizing: border-box;top: 0;bottom: 0;left: 50%;z-index: -1;}#sk-container-id-3 div.sk-parallel-item {display: flex;flex-direction: column;z-index: 1;position: relative;background-color: white;}#sk-container-id-3 div.sk-parallel-item:first-child::after {align-self: flex-end;width: 50%;}#sk-container-id-3 div.sk-parallel-item:last-child::after {align-self: flex-start;width: 50%;}#sk-container-id-3 div.sk-parallel-item:only-child::after {width: 0;}#sk-container-id-3 div.sk-dashed-wrapped {border: 1px dashed gray;margin: 0 0.4em 0.5em 0.4em;box-sizing: border-box;padding-bottom: 0.4em;background-color: white;}#sk-container-id-3 div.sk-label label {font-family: monospace;font-weight: bold;display: inline-block;line-height: 1.2em;}#sk-container-id-3 div.sk-label-container {text-align: center;}#sk-container-id-3 div.sk-container {/* jupyter's `normalize.less` sets `[hidden] { display: none; }` but bootstrap.min.css set `[hidden] { display: none !important; }` so we also need the `!important` here to be able to override the default hidden behavior on the sphinx rendered scikit-learn.org. See: https://github.com/scikit-learn/scikit-learn/issues/21755 */display: inline-block !important;position: relative;}#sk-container-id-3 div.sk-text-repr-fallback {display: none;}</style><div id=\"sk-container-id-3\" class=\"sk-top-container\"><div class=\"sk-text-repr-fallback\"><pre>MultinomialNB()</pre><b>In a Jupyter environment, please rerun this cell to show the HTML representation or trust the notebook. <br />On GitHub, the HTML representation is unable to render, please try loading this page with nbviewer.org.</b></div><div class=\"sk-container\" hidden><div class=\"sk-item\"><div class=\"sk-estimator sk-toggleable\"><input class=\"sk-toggleable__control sk-hidden--visually\" id=\"sk-estimator-id-3\" type=\"checkbox\" checked><label for=\"sk-estimator-id-3\" class=\"sk-toggleable__label sk-toggleable__label-arrow\">MultinomialNB</label><div class=\"sk-toggleable__content\"><pre>MultinomialNB()</pre></div></div></div></div></div>"
      ],
      "text/plain": [
       "MultinomialNB()"
      ]
     },
     "execution_count": 56,
     "metadata": {},
     "output_type": "execute_result"
    }
   ],
   "source": [
    "# create a tokenization a modelling pipeline\n",
    "MultinomialNB_model = MultinomialNB() #model the text\n",
    "\n",
    "# fit the pipeline to the training data\n",
    "MultinomialNB_model.fit(X_train, y_train)"
   ]
  },
  {
   "cell_type": "code",
   "execution_count": 57,
   "id": "e85553f8",
   "metadata": {},
   "outputs": [],
   "source": [
    "MultinomialNB_yhat_train = MultinomialNB_model.predict(X_train)\n",
    "MultinomialNB_yhat_test = MultinomialNB_model.predict(X_test)"
   ]
  },
  {
   "cell_type": "code",
   "execution_count": 58,
   "id": "0e111979",
   "metadata": {},
   "outputs": [
    {
     "name": "stdout",
     "output_type": "stream",
     "text": [
      "Train accuracy: 48.68421052631579\n",
      "Test accuracy: 48.68421052631579\n"
     ]
    }
   ],
   "source": [
    "# train accuracy \n",
    "MultinomialNB_train_accuracy = accuracy_score(y_train, MultinomialNB_yhat_train) * 100\n",
    "print('Train accuracy: {0}'.format(MultinomialNB_train_accuracy))\n",
    "\n",
    "# test accuracy \n",
    "MultinomialNB_test_accuracy = accuracy_score(y_test, MultinomialNB_yhat_test) * 100\n",
    "print('Test accuracy: {0}'.format(MultinomialNB_test_accuracy))"
   ]
  },
  {
   "cell_type": "code",
   "execution_count": 59,
   "id": "df26c81a",
   "metadata": {},
   "outputs": [],
   "source": [
    "pickle.dump(MultinomialNB_model, open('MultinomialNB_model.sav', 'wb'))"
   ]
  },
  {
   "cell_type": "code",
   "execution_count": 60,
   "id": "c521d07b",
   "metadata": {},
   "outputs": [
    {
     "data": {
      "text/plain": [
       "0.4869398907103825"
      ]
     },
     "execution_count": 60,
     "metadata": {},
     "output_type": "execute_result"
    }
   ],
   "source": [
    "MultinomialNB_CV = cross_val_score(\n",
    "    MultinomialNB_model, \n",
    "    X_train, y_train,\n",
    "    cv = k_fold, \n",
    "    scoring = 'accuracy', \n",
    "    n_jobs=-1\n",
    ").mean()\n",
    "\n",
    "MultinomialNB_CV"
   ]
  },
  {
   "cell_type": "code",
   "execution_count": 61,
   "id": "7a3a1f95",
   "metadata": {},
   "outputs": [
    {
     "name": "stdout",
     "output_type": "stream",
     "text": [
      "Model: MultinomialNB \n",
      "               precision    recall  f1-score   support\n",
      "\n",
      "           0       0.49      1.00      0.65        37\n",
      "           1       0.00      0.00      0.00         3\n",
      "           3       0.00      0.00      0.00         4\n",
      "           6       0.00      0.00      0.00         3\n",
      "           7       0.00      0.00      0.00         1\n",
      "           9       0.00      0.00      0.00         1\n",
      "          10       0.00      0.00      0.00         1\n",
      "          14       0.00      0.00      0.00         2\n",
      "          15       0.00      0.00      0.00         5\n",
      "          16       0.00      0.00      0.00         3\n",
      "          20       0.00      0.00      0.00         2\n",
      "          21       0.00      0.00      0.00         1\n",
      "          23       0.00      0.00      0.00         1\n",
      "          25       0.00      0.00      0.00         1\n",
      "          29       0.00      0.00      0.00         1\n",
      "          32       0.00      0.00      0.00         1\n",
      "          36       0.00      0.00      0.00         1\n",
      "          37       0.00      0.00      0.00         3\n",
      "          39       0.00      0.00      0.00         3\n",
      "          41       0.00      0.00      0.00         2\n",
      "\n",
      "    accuracy                           0.49        76\n",
      "   macro avg       0.02      0.05      0.03        76\n",
      "weighted avg       0.24      0.49      0.32        76\n",
      "\n"
     ]
    },
    {
     "name": "stderr",
     "output_type": "stream",
     "text": [
      "/opt/conda/envs/bigdata/lib/python3.10/site-packages/sklearn/metrics/_classification.py:1344: UndefinedMetricWarning: Precision and F-score are ill-defined and being set to 0.0 in labels with no predicted samples. Use `zero_division` parameter to control this behavior.\n",
      "  _warn_prf(average, modifier, msg_start, len(result))\n",
      "/opt/conda/envs/bigdata/lib/python3.10/site-packages/sklearn/metrics/_classification.py:1344: UndefinedMetricWarning: Precision and F-score are ill-defined and being set to 0.0 in labels with no predicted samples. Use `zero_division` parameter to control this behavior.\n",
      "  _warn_prf(average, modifier, msg_start, len(result))\n",
      "/opt/conda/envs/bigdata/lib/python3.10/site-packages/sklearn/metrics/_classification.py:1344: UndefinedMetricWarning: Precision and F-score are ill-defined and being set to 0.0 in labels with no predicted samples. Use `zero_division` parameter to control this behavior.\n",
      "  _warn_prf(average, modifier, msg_start, len(result))\n"
     ]
    }
   ],
   "source": [
    "print('Model: MultinomialNB', '\\n', classification_report(y_test, MultinomialNB_yhat_test))"
   ]
  },
  {
   "cell_type": "code",
   "execution_count": 62,
   "id": "33d12d27",
   "metadata": {},
   "outputs": [
    {
     "name": "stderr",
     "output_type": "stream",
     "text": [
      "/opt/conda/envs/bigdata/lib/python3.10/site-packages/sklearn/metrics/_classification.py:1344: UndefinedMetricWarning: Precision is ill-defined and being set to 0.0 in labels with no predicted samples. Use `zero_division` parameter to control this behavior.\n",
      "  _warn_prf(average, modifier, msg_start, len(result))\n"
     ]
    }
   ],
   "source": [
    "summary.loc[2] = [\n",
    "    'Naive Bayes',\n",
    "    round(accuracy_score(y_test, MultinomialNB_yhat_test), 2),\n",
    "    round(MultinomialNB_CV, 2),\n",
    "    round(precision_score(y_test, MultinomialNB_yhat_test, average = 'macro'), 2), \n",
    "    round(recall_score(y_test, MultinomialNB_yhat_test, average = 'macro'), 2), \n",
    "    round(f1_score(y_test, MultinomialNB_yhat_test, average = 'macro'), 2)\n",
    "]"
   ]
  },
  {
   "cell_type": "code",
   "execution_count": 63,
   "id": "464018d7",
   "metadata": {},
   "outputs": [
    {
     "data": {
      "text/html": [
       "<div>\n",
       "<style scoped>\n",
       "    .dataframe tbody tr th:only-of-type {\n",
       "        vertical-align: middle;\n",
       "    }\n",
       "\n",
       "    .dataframe tbody tr th {\n",
       "        vertical-align: top;\n",
       "    }\n",
       "\n",
       "    .dataframe thead th {\n",
       "        text-align: right;\n",
       "    }\n",
       "</style>\n",
       "<table border=\"1\" class=\"dataframe\">\n",
       "  <thead>\n",
       "    <tr style=\"text-align: right;\">\n",
       "      <th></th>\n",
       "      <th>Model</th>\n",
       "      <th>Accuracy</th>\n",
       "      <th>CV</th>\n",
       "      <th>Precision</th>\n",
       "      <th>Recall</th>\n",
       "      <th>F1</th>\n",
       "    </tr>\n",
       "  </thead>\n",
       "  <tbody>\n",
       "    <tr>\n",
       "      <th>0</th>\n",
       "      <td>Random Forest Classifier</td>\n",
       "      <td>0.49</td>\n",
       "      <td>0.49</td>\n",
       "      <td>0.02</td>\n",
       "      <td>0.05</td>\n",
       "      <td>0.03</td>\n",
       "    </tr>\n",
       "    <tr>\n",
       "      <th>1</th>\n",
       "      <td>Support Vector Machine</td>\n",
       "      <td>0.49</td>\n",
       "      <td>0.49</td>\n",
       "      <td>0.02</td>\n",
       "      <td>0.05</td>\n",
       "      <td>0.03</td>\n",
       "    </tr>\n",
       "    <tr>\n",
       "      <th>2</th>\n",
       "      <td>Naive Bayes</td>\n",
       "      <td>0.49</td>\n",
       "      <td>0.49</td>\n",
       "      <td>0.02</td>\n",
       "      <td>0.05</td>\n",
       "      <td>0.03</td>\n",
       "    </tr>\n",
       "  </tbody>\n",
       "</table>\n",
       "</div>"
      ],
      "text/plain": [
       "                      Model  Accuracy    CV  Precision  Recall    F1\n",
       "0  Random Forest Classifier      0.49  0.49       0.02    0.05  0.03\n",
       "1    Support Vector Machine      0.49  0.49       0.02    0.05  0.03\n",
       "2               Naive Bayes      0.49  0.49       0.02    0.05  0.03"
      ]
     },
     "execution_count": 63,
     "metadata": {},
     "output_type": "execute_result"
    }
   ],
   "source": [
    "summary"
   ]
  },
  {
   "cell_type": "code",
   "execution_count": null,
   "id": "dba68141",
   "metadata": {},
   "outputs": [],
   "source": []
  },
  {
   "cell_type": "code",
   "execution_count": null,
   "id": "a62cf93d",
   "metadata": {},
   "outputs": [],
   "source": []
  },
  {
   "cell_type": "code",
   "execution_count": 76,
   "id": "6b7270f5",
   "metadata": {},
   "outputs": [],
   "source": [
    "text = 'We use data from the Early Childhood Longitudinal Study – Birth Cohort (ECLS-B). This dataset follows a nationally representative sample of U.S. born children from birth in 2001 until the start of kindergarten, up to 2007. We use information from Waves 1, 2, 3, and 4, when children are approximately 9 months, 2 years, 4½ years, and 5½ years old, respectively. Of the ~7000 children that participated in Wave 4, we analyze the ~3800 that are children of U.S.-born non-Hispanic White mothers, U.S.-born Mexican heritage mothers, and foreign-born Mexican mothers.'"
   ]
  },
  {
   "cell_type": "code",
   "execution_count": 77,
   "id": "95dade1b",
   "metadata": {},
   "outputs": [
    {
     "data": {
      "text/plain": [
       "'We use data from the Early Childhood Longitudinal Study – Birth Cohort (ECLS-B). This dataset follows a nationally representative sample of U.S. born children from birth in 2001 until the start of kindergarten, up to 2007. We use information from Waves 1, 2, 3, and 4, when children are approximately 9 months, 2 years, 4½ years, and 5½ years old, respectively. Of the ~7000 children that participated in Wave 4, we analyze the ~3800 that are children of U.S.-born non-Hispanic White mothers, U.S.-born Mexican heritage mothers, and foreign-born Mexican mothers.'"
      ]
     },
     "execution_count": 77,
     "metadata": {},
     "output_type": "execute_result"
    }
   ],
   "source": [
    "text"
   ]
  },
  {
   "cell_type": "code",
   "execution_count": 78,
   "id": "7c28bb79",
   "metadata": {},
   "outputs": [
    {
     "name": "stdout",
     "output_type": "stream",
     "text": [
      "RandomForestClassifier_label: {'adni'}\n"
     ]
    },
    {
     "data": {
      "text/plain": [
       "{'adni'}"
      ]
     },
     "execution_count": 78,
     "metadata": {},
     "output_type": "execute_result"
    }
   ],
   "source": [
    "# extract sentences\n",
    "sentences = [clean_text(sentence) for sentence in nltk.sent_tokenize(str(text))]\n",
    "sentences = shorten_sentences(sentences) # make sentences short\n",
    "sentences = [sentence for sentence in sentences if len(sentence) > 10] # only accept sentences with length > 10 chars\n",
    "\n",
    "# predict\n",
    "RandomForestClassifier_labels = RandomForestClassifier_model.predict(selector.transform(vectorizer.transform(sentences).toarray()))\n",
    "\n",
    "# get labels\n",
    "RandomForestClassifier_labels = encoder.inverse_transform(RandomForestClassifier_labels) \n",
    "print('RandomForestClassifier_label:', set(RandomForestClassifier_labels))\n",
    "RandomForestClassifier_labels = set(RandomForestClassifier_labels)\n",
    "\n",
    "RandomForestClassifier_labels"
   ]
  },
  {
   "cell_type": "code",
   "execution_count": null,
   "id": "1915808e",
   "metadata": {},
   "outputs": [],
   "source": []
  }
 ],
 "metadata": {
  "kernelspec": {
   "display_name": "Python [conda env:bigdata]",
   "language": "python",
   "name": "conda-env-bigdata-py"
  },
  "language_info": {
   "codemirror_mode": {
    "name": "ipython",
    "version": 3
   },
   "file_extension": ".py",
   "mimetype": "text/x-python",
   "name": "python",
   "nbconvert_exporter": "python",
   "pygments_lexer": "ipython3",
   "version": "3.10.9"
  }
 },
 "nbformat": 4,
 "nbformat_minor": 5
}
